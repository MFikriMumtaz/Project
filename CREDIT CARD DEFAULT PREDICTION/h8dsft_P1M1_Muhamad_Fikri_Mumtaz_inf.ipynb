{
 "cells": [
  {
   "cell_type": "code",
   "execution_count": 1,
   "metadata": {},
   "outputs": [],
   "source": [
    "import numpy as np\n",
    "import pandas as pd\n",
    "import joblib\n",
    "import warnings\n",
    "warnings.filterwarnings('ignore')"
   ]
  },
  {
   "cell_type": "code",
   "execution_count": 2,
   "metadata": {},
   "outputs": [],
   "source": [
    "with open('D:\\Hacktiv8\\Milestone\\Milestone 2\\cat_transformer.pkl','rb') as file_1:\n",
    " cat_transformer= joblib.load(file_1)\n",
    "\n",
    "with open('D:/Hacktiv8/Milestone/Milestone 2/num_transformer.pkl','rb') as file_2:\n",
    "  num_transformer=joblib.load(file_2)\n",
    "\n",
    "with open('D:\\Hacktiv8\\Graded_Challange\\P1GC2\\MinMax.pkl','rb') as file_3:\n",
    "  preprocessor=joblib.load(file_3)\n",
    "\n",
    "with open('D:\\Hacktiv8\\Milestone\\Milestone 2\\pipeline_for_final.pkl','rb') as file_4:\n",
    "  pipeline_for_final=joblib.load(file_4)\n",
    "\n",
    "with open('D:/Hacktiv8/Milestone/Milestone 2/final_pipeline.pkl','rb') as file_5:\n",
    "  final_pipeline=joblib.load(file_5)"
   ]
  },
  {
   "cell_type": "code",
   "execution_count": 3,
   "metadata": {},
   "outputs": [],
   "source": [
    "df = pd.read_csv(r'D:\\Hacktiv8\\Milestone\\Milestone 2\\h8dsft_P1M1_Muhamad_Fikri_Mumtaz.csv')"
   ]
  },
  {
   "cell_type": "code",
   "execution_count": 5,
   "metadata": {},
   "outputs": [
    {
     "name": "stdout",
     "output_type": "stream",
     "text": [
      "[0 0 1 0 0 0 0 0 0 0 0 0 0 0 1 0 1 0 0 0]\n"
     ]
    }
   ],
   "source": [
    "# use the pipeline to make predictions on new data\n",
    "new_data = df.sample(20)\n",
    "y_pred = final_pipeline.predict(new_data)\n",
    "\n",
    "# print the predictions\n",
    "print(y_pred)"
   ]
  }
 ],
 "metadata": {
  "kernelspec": {
   "display_name": "base",
   "language": "python",
   "name": "python3"
  },
  "language_info": {
   "codemirror_mode": {
    "name": "ipython",
    "version": 3
   },
   "file_extension": ".py",
   "mimetype": "text/x-python",
   "name": "python",
   "nbconvert_exporter": "python",
   "pygments_lexer": "ipython3",
   "version": "3.9.13"
  },
  "orig_nbformat": 4
 },
 "nbformat": 4,
 "nbformat_minor": 2
}
