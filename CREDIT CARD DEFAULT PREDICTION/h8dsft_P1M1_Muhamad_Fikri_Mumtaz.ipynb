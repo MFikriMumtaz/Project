{
 "cells": [
  {
   "attachments": {},
   "cell_type": "markdown",
   "metadata": {},
   "source": [
    "# Perkenalan"
   ]
  },
  {
   "attachments": {},
   "cell_type": "markdown",
   "metadata": {},
   "source": [
    "**Nama: Muhamad Fikri Mumtaz**\n",
    "\n",
    "**Batch: HCK-004**"
   ]
  },
  {
   "attachments": {},
   "cell_type": "markdown",
   "metadata": {},
   "source": [
    "----"
   ]
  },
  {
   "attachments": {},
   "cell_type": "markdown",
   "metadata": {},
   "source": [
    "**Problem Statement**"
   ]
  },
  {
   "attachments": {},
   "cell_type": "markdown",
   "metadata": {},
   "source": [
    "Memprediksi Kemungkinan Pengguna Kartu Kredit Bank Gagal Bayar (`Default`) Pada Bulan Berikutnya dengan menggunakan Pemodelan *`Supervised Machine Learning`*."
   ]
  },
  {
   "attachments": {},
   "cell_type": "markdown",
   "metadata": {},
   "source": [
    "**Poin Penjabaran:**\n",
    "\n",
    "- Berapakah limit balance pada setiap kategori Default Payment?\n",
    "\n",
    "- Berapakah jumlah Default Payment berdasarkan status pernikahan?\n",
    "\n",
    "- Berapa banyak jumlah dari tiap kategori Default Payment?\n",
    "\n",
    "- Bagaimana persebaran distribusi umur berdasarkan Default Payment?\n",
    "\n",
    "- Berapakah jumlah Default Payment berdasarkan Jenis Kelamin?\n",
    "\n",
    "- Berapakah jumlah total tagihan berdasarkan payment delay (pay_0-pay_6)?\n",
    "\n",
    "- Berapakah jumlah total pembayaran tagihan berdasrkan payment delay?\n",
    "\n",
    "- Berapakah jumlah limit balance berdasrkan payment delay?"
   ]
  },
  {
   "attachments": {},
   "cell_type": "markdown",
   "metadata": {},
   "source": [
    "----"
   ]
  },
  {
   "attachments": {},
   "cell_type": "markdown",
   "metadata": {},
   "source": [
    "# Data Query"
   ]
  },
  {
   "attachments": {},
   "cell_type": "markdown",
   "metadata": {},
   "source": [
    "```\n",
    "SELECT \n",
    "limit_balance,\n",
    "CAST(sex AS INT64) as sex,\n",
    "CAST(education_level AS INT64) as education_level,\n",
    "CAST(marital_status AS INT64) as marital_status,\n",
    "age,\n",
    "pay_0,\n",
    "pay_2,\n",
    "pay_3,\n",
    "pay_4,\n",
    "CAST(pay_5 AS FLOAT64) as pay_5,\n",
    "CAST(pay_6 AS FLOAT64) as pay_6,\n",
    "bill_amt_1,\n",
    "bill_amt_2,\n",
    "bill_amt_3,\n",
    "bill_amt_4,\n",
    "bill_amt_5,\n",
    "bill_amt_6,\n",
    "pay_amt_1,\n",
    "pay_amt_2,\n",
    "pay_amt_3,\n",
    "pay_amt_4,\n",
    "pay_amt_5,\n",
    "pay_amt_6,\n",
    "CAST(default_payment_next_month AS INT64) as default_payment_next_month\n",
    "FROM `bigquery-public-data.ml_datasets.credit_card_default`\n",
    "LIMIT 7996\n",
    "```"
   ]
  },
  {
   "attachments": {},
   "cell_type": "markdown",
   "metadata": {},
   "source": [
    "----"
   ]
  },
  {
   "attachments": {},
   "cell_type": "markdown",
   "metadata": {},
   "source": [
    "# Data Libraries"
   ]
  },
  {
   "cell_type": "code",
   "execution_count": 109,
   "metadata": {},
   "outputs": [],
   "source": [
    "import pandas as pd\n",
    "import numpy as np\n",
    "import matplotlib.pyplot as plt\n",
    "%matplotlib inline\n",
    "import seaborn as sns\n",
    "import warnings\n",
    "warnings.filterwarnings('ignore')\n",
    "\n",
    "# For Feature Selection\n",
    "from sklearn.decomposition import PCA\n",
    "from statsmodels.stats.outliers_influence import variance_inflation_factor\n",
    "\n",
    "#For Encoding\n",
    "from sklearn.preprocessing import OrdinalEncoder\n",
    "\n",
    "# For Classification Problems\n",
    "from sklearn.linear_model import LogisticRegression\n",
    "from sklearn.svm import SVC\n",
    "from sklearn.compose import ColumnTransformer\n",
    "from sklearn.pipeline import Pipeline\n",
    "from sklearn.preprocessing import StandardScaler\n",
    "from sklearn.linear_model import LogisticRegression\n",
    "from sklearn.tree import DecisionTreeClassifier\n",
    "from sklearn.ensemble import RandomForestClassifier, AdaBoostClassifier\n",
    "from sklearn.naive_bayes import GaussianNB\n",
    "from sklearn.neighbors import KNeighborsClassifier\n",
    "\n",
    "\n",
    "# Split Dataset and Standarize the Datasets\n",
    "from sklearn.model_selection import train_test_split\n",
    "from sklearn.model_selection import KFold\n",
    "\n",
    "# Evaluate classification Models\n",
    "from sklearn.metrics import confusion_matrix\n",
    "from sklearn.metrics import ConfusionMatrixDisplay\n",
    "from sklearn.metrics import classification_report\n",
    "from sklearn.metrics import roc_auc_score\n",
    "from sklearn.metrics import make_scorer, recall_score\n",
    "\n",
    "# For Making Pipeline\n",
    "from sklearn.pipeline import Pipeline\n",
    "from imblearn.pipeline import Pipeline as imbPipeline\n",
    "from imblearn.over_sampling import SMOTE\n",
    "\n",
    "# For using GridSearch\n",
    "from sklearn.model_selection import GridSearchCV\n",
    "#save model\n",
    "import joblib"
   ]
  },
  {
   "attachments": {},
   "cell_type": "markdown",
   "metadata": {},
   "source": [
    "----"
   ]
  },
  {
   "attachments": {},
   "cell_type": "markdown",
   "metadata": {},
   "source": [
    "# Data Loading"
   ]
  },
  {
   "cell_type": "code",
   "execution_count": 110,
   "metadata": {},
   "outputs": [],
   "source": [
    "# Cek Missing Value Non Standar\n",
    "missing_values = [\"n/a\", \"na\", \"--\",'n/a','NaN','?']\n",
    "df = pd.read_csv(r'D:\\Hacktiv8\\Milestone\\Milestone 2\\h8dsft_P1M1_Muhamad_Fikri_Mumtaz.csv',na_values = missing_values)"
   ]
  },
  {
   "cell_type": "code",
   "execution_count": 111,
   "metadata": {},
   "outputs": [],
   "source": [
    "pd.set_option('display.max_columns', None)\n",
    "pd.set_option('display.max_rows', None)"
   ]
  },
  {
   "cell_type": "code",
   "execution_count": 112,
   "metadata": {},
   "outputs": [
    {
     "data": {
      "text/html": [
       "<div>\n",
       "<style scoped>\n",
       "    .dataframe tbody tr th:only-of-type {\n",
       "        vertical-align: middle;\n",
       "    }\n",
       "\n",
       "    .dataframe tbody tr th {\n",
       "        vertical-align: top;\n",
       "    }\n",
       "\n",
       "    .dataframe thead th {\n",
       "        text-align: right;\n",
       "    }\n",
       "</style>\n",
       "<table border=\"1\" class=\"dataframe\">\n",
       "  <thead>\n",
       "    <tr style=\"text-align: right;\">\n",
       "      <th></th>\n",
       "      <th>limit_balance</th>\n",
       "      <th>sex</th>\n",
       "      <th>education_level</th>\n",
       "      <th>marital_status</th>\n",
       "      <th>age</th>\n",
       "      <th>pay_0</th>\n",
       "      <th>pay_2</th>\n",
       "      <th>pay_3</th>\n",
       "      <th>pay_4</th>\n",
       "      <th>pay_5</th>\n",
       "      <th>pay_6</th>\n",
       "      <th>bill_amt_1</th>\n",
       "      <th>bill_amt_2</th>\n",
       "      <th>bill_amt_3</th>\n",
       "      <th>bill_amt_4</th>\n",
       "      <th>bill_amt_5</th>\n",
       "      <th>bill_amt_6</th>\n",
       "      <th>pay_amt_1</th>\n",
       "      <th>pay_amt_2</th>\n",
       "      <th>pay_amt_3</th>\n",
       "      <th>pay_amt_4</th>\n",
       "      <th>pay_amt_5</th>\n",
       "      <th>pay_amt_6</th>\n",
       "      <th>default_payment_next_month</th>\n",
       "    </tr>\n",
       "  </thead>\n",
       "  <tbody>\n",
       "    <tr>\n",
       "      <th>0</th>\n",
       "      <td>80000.0</td>\n",
       "      <td>1</td>\n",
       "      <td>6</td>\n",
       "      <td>1</td>\n",
       "      <td>54.0</td>\n",
       "      <td>0.0</td>\n",
       "      <td>0.0</td>\n",
       "      <td>0.0</td>\n",
       "      <td>0.0</td>\n",
       "      <td>0.0</td>\n",
       "      <td>0.0</td>\n",
       "      <td>61454.0</td>\n",
       "      <td>61808.0</td>\n",
       "      <td>62290.0</td>\n",
       "      <td>29296.0</td>\n",
       "      <td>26210.0</td>\n",
       "      <td>17643.0</td>\n",
       "      <td>2545.0</td>\n",
       "      <td>2208.0</td>\n",
       "      <td>1336.0</td>\n",
       "      <td>2232.0</td>\n",
       "      <td>542.0</td>\n",
       "      <td>348.0</td>\n",
       "      <td>1</td>\n",
       "    </tr>\n",
       "    <tr>\n",
       "      <th>1</th>\n",
       "      <td>200000.0</td>\n",
       "      <td>1</td>\n",
       "      <td>4</td>\n",
       "      <td>1</td>\n",
       "      <td>49.0</td>\n",
       "      <td>0.0</td>\n",
       "      <td>0.0</td>\n",
       "      <td>0.0</td>\n",
       "      <td>0.0</td>\n",
       "      <td>0.0</td>\n",
       "      <td>0.0</td>\n",
       "      <td>49221.0</td>\n",
       "      <td>49599.0</td>\n",
       "      <td>50942.0</td>\n",
       "      <td>50146.0</td>\n",
       "      <td>50235.0</td>\n",
       "      <td>48984.0</td>\n",
       "      <td>1689.0</td>\n",
       "      <td>2164.0</td>\n",
       "      <td>2500.0</td>\n",
       "      <td>3480.0</td>\n",
       "      <td>2500.0</td>\n",
       "      <td>3000.0</td>\n",
       "      <td>0</td>\n",
       "    </tr>\n",
       "    <tr>\n",
       "      <th>2</th>\n",
       "      <td>20000.0</td>\n",
       "      <td>2</td>\n",
       "      <td>6</td>\n",
       "      <td>2</td>\n",
       "      <td>22.0</td>\n",
       "      <td>0.0</td>\n",
       "      <td>0.0</td>\n",
       "      <td>0.0</td>\n",
       "      <td>0.0</td>\n",
       "      <td>0.0</td>\n",
       "      <td>0.0</td>\n",
       "      <td>19568.0</td>\n",
       "      <td>19420.0</td>\n",
       "      <td>15535.0</td>\n",
       "      <td>1434.0</td>\n",
       "      <td>500.0</td>\n",
       "      <td>0.0</td>\n",
       "      <td>4641.0</td>\n",
       "      <td>1019.0</td>\n",
       "      <td>900.0</td>\n",
       "      <td>0.0</td>\n",
       "      <td>1500.0</td>\n",
       "      <td>0.0</td>\n",
       "      <td>1</td>\n",
       "    </tr>\n",
       "    <tr>\n",
       "      <th>3</th>\n",
       "      <td>260000.0</td>\n",
       "      <td>2</td>\n",
       "      <td>4</td>\n",
       "      <td>2</td>\n",
       "      <td>33.0</td>\n",
       "      <td>0.0</td>\n",
       "      <td>0.0</td>\n",
       "      <td>0.0</td>\n",
       "      <td>0.0</td>\n",
       "      <td>0.0</td>\n",
       "      <td>0.0</td>\n",
       "      <td>18457.0</td>\n",
       "      <td>22815.0</td>\n",
       "      <td>27086.0</td>\n",
       "      <td>27821.0</td>\n",
       "      <td>30767.0</td>\n",
       "      <td>29890.0</td>\n",
       "      <td>5000.0</td>\n",
       "      <td>5000.0</td>\n",
       "      <td>1137.0</td>\n",
       "      <td>5000.0</td>\n",
       "      <td>1085.0</td>\n",
       "      <td>5000.0</td>\n",
       "      <td>0</td>\n",
       "    </tr>\n",
       "    <tr>\n",
       "      <th>4</th>\n",
       "      <td>150000.0</td>\n",
       "      <td>1</td>\n",
       "      <td>4</td>\n",
       "      <td>2</td>\n",
       "      <td>32.0</td>\n",
       "      <td>0.0</td>\n",
       "      <td>0.0</td>\n",
       "      <td>0.0</td>\n",
       "      <td>-1.0</td>\n",
       "      <td>0.0</td>\n",
       "      <td>0.0</td>\n",
       "      <td>159919.0</td>\n",
       "      <td>68686.0</td>\n",
       "      <td>161192.0</td>\n",
       "      <td>150464.0</td>\n",
       "      <td>143375.0</td>\n",
       "      <td>146411.0</td>\n",
       "      <td>4019.0</td>\n",
       "      <td>146896.0</td>\n",
       "      <td>157436.0</td>\n",
       "      <td>4600.0</td>\n",
       "      <td>4709.0</td>\n",
       "      <td>5600.0</td>\n",
       "      <td>0</td>\n",
       "    </tr>\n",
       "    <tr>\n",
       "      <th>5</th>\n",
       "      <td>300000.0</td>\n",
       "      <td>2</td>\n",
       "      <td>4</td>\n",
       "      <td>2</td>\n",
       "      <td>32.0</td>\n",
       "      <td>0.0</td>\n",
       "      <td>0.0</td>\n",
       "      <td>0.0</td>\n",
       "      <td>0.0</td>\n",
       "      <td>0.0</td>\n",
       "      <td>-1.0</td>\n",
       "      <td>54053.0</td>\n",
       "      <td>65235.0</td>\n",
       "      <td>64747.0</td>\n",
       "      <td>65150.0</td>\n",
       "      <td>-450.0</td>\n",
       "      <td>700.0</td>\n",
       "      <td>15235.0</td>\n",
       "      <td>1491.0</td>\n",
       "      <td>1303.0</td>\n",
       "      <td>0.0</td>\n",
       "      <td>2000.0</td>\n",
       "      <td>1400.0</td>\n",
       "      <td>0</td>\n",
       "    </tr>\n",
       "    <tr>\n",
       "      <th>6</th>\n",
       "      <td>130000.0</td>\n",
       "      <td>1</td>\n",
       "      <td>1</td>\n",
       "      <td>1</td>\n",
       "      <td>45.0</td>\n",
       "      <td>0.0</td>\n",
       "      <td>0.0</td>\n",
       "      <td>0.0</td>\n",
       "      <td>0.0</td>\n",
       "      <td>0.0</td>\n",
       "      <td>0.0</td>\n",
       "      <td>58180.0</td>\n",
       "      <td>59134.0</td>\n",
       "      <td>61156.0</td>\n",
       "      <td>62377.0</td>\n",
       "      <td>63832.0</td>\n",
       "      <td>65099.0</td>\n",
       "      <td>2886.0</td>\n",
       "      <td>2908.0</td>\n",
       "      <td>2129.0</td>\n",
       "      <td>2354.0</td>\n",
       "      <td>2366.0</td>\n",
       "      <td>2291.0</td>\n",
       "      <td>0</td>\n",
       "    </tr>\n",
       "    <tr>\n",
       "      <th>7</th>\n",
       "      <td>200000.0</td>\n",
       "      <td>1</td>\n",
       "      <td>1</td>\n",
       "      <td>1</td>\n",
       "      <td>58.0</td>\n",
       "      <td>0.0</td>\n",
       "      <td>0.0</td>\n",
       "      <td>0.0</td>\n",
       "      <td>0.0</td>\n",
       "      <td>0.0</td>\n",
       "      <td>0.0</td>\n",
       "      <td>192461.0</td>\n",
       "      <td>195970.0</td>\n",
       "      <td>122214.0</td>\n",
       "      <td>124647.0</td>\n",
       "      <td>126921.0</td>\n",
       "      <td>129167.0</td>\n",
       "      <td>7822.0</td>\n",
       "      <td>4417.0</td>\n",
       "      <td>4446.0</td>\n",
       "      <td>4597.0</td>\n",
       "      <td>4677.0</td>\n",
       "      <td>4698.0</td>\n",
       "      <td>0</td>\n",
       "    </tr>\n",
       "    <tr>\n",
       "      <th>8</th>\n",
       "      <td>500000.0</td>\n",
       "      <td>1</td>\n",
       "      <td>1</td>\n",
       "      <td>1</td>\n",
       "      <td>39.0</td>\n",
       "      <td>0.0</td>\n",
       "      <td>0.0</td>\n",
       "      <td>0.0</td>\n",
       "      <td>0.0</td>\n",
       "      <td>0.0</td>\n",
       "      <td>0.0</td>\n",
       "      <td>133598.0</td>\n",
       "      <td>167378.0</td>\n",
       "      <td>171106.0</td>\n",
       "      <td>174500.0</td>\n",
       "      <td>137406.0</td>\n",
       "      <td>204975.0</td>\n",
       "      <td>54209.0</td>\n",
       "      <td>4607.0</td>\n",
       "      <td>4603.0</td>\n",
       "      <td>5224.0</td>\n",
       "      <td>207440.0</td>\n",
       "      <td>7509.0</td>\n",
       "      <td>0</td>\n",
       "    </tr>\n",
       "    <tr>\n",
       "      <th>9</th>\n",
       "      <td>230000.0</td>\n",
       "      <td>1</td>\n",
       "      <td>1</td>\n",
       "      <td>1</td>\n",
       "      <td>48.0</td>\n",
       "      <td>0.0</td>\n",
       "      <td>0.0</td>\n",
       "      <td>0.0</td>\n",
       "      <td>0.0</td>\n",
       "      <td>0.0</td>\n",
       "      <td>0.0</td>\n",
       "      <td>160879.0</td>\n",
       "      <td>161797.0</td>\n",
       "      <td>165107.0</td>\n",
       "      <td>105508.0</td>\n",
       "      <td>108101.0</td>\n",
       "      <td>110094.0</td>\n",
       "      <td>7000.0</td>\n",
       "      <td>6607.0</td>\n",
       "      <td>3773.0</td>\n",
       "      <td>4290.0</td>\n",
       "      <td>4164.0</td>\n",
       "      <td>2000.0</td>\n",
       "      <td>0</td>\n",
       "    </tr>\n",
       "  </tbody>\n",
       "</table>\n",
       "</div>"
      ],
      "text/plain": [
       "   limit_balance  sex  education_level  marital_status   age  pay_0  pay_2  \\\n",
       "0        80000.0    1                6               1  54.0    0.0    0.0   \n",
       "1       200000.0    1                4               1  49.0    0.0    0.0   \n",
       "2        20000.0    2                6               2  22.0    0.0    0.0   \n",
       "3       260000.0    2                4               2  33.0    0.0    0.0   \n",
       "4       150000.0    1                4               2  32.0    0.0    0.0   \n",
       "5       300000.0    2                4               2  32.0    0.0    0.0   \n",
       "6       130000.0    1                1               1  45.0    0.0    0.0   \n",
       "7       200000.0    1                1               1  58.0    0.0    0.0   \n",
       "8       500000.0    1                1               1  39.0    0.0    0.0   \n",
       "9       230000.0    1                1               1  48.0    0.0    0.0   \n",
       "\n",
       "   pay_3  pay_4  pay_5  pay_6  bill_amt_1  bill_amt_2  bill_amt_3  bill_amt_4  \\\n",
       "0    0.0    0.0    0.0    0.0     61454.0     61808.0     62290.0     29296.0   \n",
       "1    0.0    0.0    0.0    0.0     49221.0     49599.0     50942.0     50146.0   \n",
       "2    0.0    0.0    0.0    0.0     19568.0     19420.0     15535.0      1434.0   \n",
       "3    0.0    0.0    0.0    0.0     18457.0     22815.0     27086.0     27821.0   \n",
       "4    0.0   -1.0    0.0    0.0    159919.0     68686.0    161192.0    150464.0   \n",
       "5    0.0    0.0    0.0   -1.0     54053.0     65235.0     64747.0     65150.0   \n",
       "6    0.0    0.0    0.0    0.0     58180.0     59134.0     61156.0     62377.0   \n",
       "7    0.0    0.0    0.0    0.0    192461.0    195970.0    122214.0    124647.0   \n",
       "8    0.0    0.0    0.0    0.0    133598.0    167378.0    171106.0    174500.0   \n",
       "9    0.0    0.0    0.0    0.0    160879.0    161797.0    165107.0    105508.0   \n",
       "\n",
       "   bill_amt_5  bill_amt_6  pay_amt_1  pay_amt_2  pay_amt_3  pay_amt_4  \\\n",
       "0     26210.0     17643.0     2545.0     2208.0     1336.0     2232.0   \n",
       "1     50235.0     48984.0     1689.0     2164.0     2500.0     3480.0   \n",
       "2       500.0         0.0     4641.0     1019.0      900.0        0.0   \n",
       "3     30767.0     29890.0     5000.0     5000.0     1137.0     5000.0   \n",
       "4    143375.0    146411.0     4019.0   146896.0   157436.0     4600.0   \n",
       "5      -450.0       700.0    15235.0     1491.0     1303.0        0.0   \n",
       "6     63832.0     65099.0     2886.0     2908.0     2129.0     2354.0   \n",
       "7    126921.0    129167.0     7822.0     4417.0     4446.0     4597.0   \n",
       "8    137406.0    204975.0    54209.0     4607.0     4603.0     5224.0   \n",
       "9    108101.0    110094.0     7000.0     6607.0     3773.0     4290.0   \n",
       "\n",
       "   pay_amt_5  pay_amt_6  default_payment_next_month  \n",
       "0      542.0      348.0                           1  \n",
       "1     2500.0     3000.0                           0  \n",
       "2     1500.0        0.0                           1  \n",
       "3     1085.0     5000.0                           0  \n",
       "4     4709.0     5600.0                           0  \n",
       "5     2000.0     1400.0                           0  \n",
       "6     2366.0     2291.0                           0  \n",
       "7     4677.0     4698.0                           0  \n",
       "8   207440.0     7509.0                           0  \n",
       "9     4164.0     2000.0                           0  "
      ]
     },
     "execution_count": 112,
     "metadata": {},
     "output_type": "execute_result"
    }
   ],
   "source": [
    "df.head(10)"
   ]
  },
  {
   "cell_type": "code",
   "execution_count": 113,
   "metadata": {},
   "outputs": [
    {
     "data": {
      "text/html": [
       "<div>\n",
       "<style scoped>\n",
       "    .dataframe tbody tr th:only-of-type {\n",
       "        vertical-align: middle;\n",
       "    }\n",
       "\n",
       "    .dataframe tbody tr th {\n",
       "        vertical-align: top;\n",
       "    }\n",
       "\n",
       "    .dataframe thead th {\n",
       "        text-align: right;\n",
       "    }\n",
       "</style>\n",
       "<table border=\"1\" class=\"dataframe\">\n",
       "  <thead>\n",
       "    <tr style=\"text-align: right;\">\n",
       "      <th></th>\n",
       "      <th>limit_balance</th>\n",
       "      <th>sex</th>\n",
       "      <th>education_level</th>\n",
       "      <th>marital_status</th>\n",
       "      <th>age</th>\n",
       "      <th>pay_0</th>\n",
       "      <th>pay_2</th>\n",
       "      <th>pay_3</th>\n",
       "      <th>pay_4</th>\n",
       "      <th>pay_5</th>\n",
       "      <th>pay_6</th>\n",
       "      <th>bill_amt_1</th>\n",
       "      <th>bill_amt_2</th>\n",
       "      <th>bill_amt_3</th>\n",
       "      <th>bill_amt_4</th>\n",
       "      <th>bill_amt_5</th>\n",
       "      <th>bill_amt_6</th>\n",
       "      <th>pay_amt_1</th>\n",
       "      <th>pay_amt_2</th>\n",
       "      <th>pay_amt_3</th>\n",
       "      <th>pay_amt_4</th>\n",
       "      <th>pay_amt_5</th>\n",
       "      <th>pay_amt_6</th>\n",
       "      <th>default_payment_next_month</th>\n",
       "    </tr>\n",
       "  </thead>\n",
       "  <tbody>\n",
       "    <tr>\n",
       "      <th>2955</th>\n",
       "      <td>360000.0</td>\n",
       "      <td>2</td>\n",
       "      <td>2</td>\n",
       "      <td>2</td>\n",
       "      <td>26.0</td>\n",
       "      <td>-1.0</td>\n",
       "      <td>-1.0</td>\n",
       "      <td>-1.0</td>\n",
       "      <td>-1.0</td>\n",
       "      <td>-2.0</td>\n",
       "      <td>-2.0</td>\n",
       "      <td>1968.0</td>\n",
       "      <td>459.0</td>\n",
       "      <td>2500.0</td>\n",
       "      <td>0.0</td>\n",
       "      <td>0.0</td>\n",
       "      <td>0.0</td>\n",
       "      <td>463.0</td>\n",
       "      <td>2500.0</td>\n",
       "      <td>0.0</td>\n",
       "      <td>0.0</td>\n",
       "      <td>0.0</td>\n",
       "      <td>0.0</td>\n",
       "      <td>0</td>\n",
       "    </tr>\n",
       "    <tr>\n",
       "      <th>2956</th>\n",
       "      <td>100000.0</td>\n",
       "      <td>1</td>\n",
       "      <td>3</td>\n",
       "      <td>1</td>\n",
       "      <td>40.0</td>\n",
       "      <td>0.0</td>\n",
       "      <td>0.0</td>\n",
       "      <td>-1.0</td>\n",
       "      <td>-1.0</td>\n",
       "      <td>-2.0</td>\n",
       "      <td>-2.0</td>\n",
       "      <td>12878.0</td>\n",
       "      <td>7702.0</td>\n",
       "      <td>2377.0</td>\n",
       "      <td>0.0</td>\n",
       "      <td>0.0</td>\n",
       "      <td>0.0</td>\n",
       "      <td>2000.0</td>\n",
       "      <td>2377.0</td>\n",
       "      <td>40000.0</td>\n",
       "      <td>0.0</td>\n",
       "      <td>0.0</td>\n",
       "      <td>0.0</td>\n",
       "      <td>0</td>\n",
       "    </tr>\n",
       "    <tr>\n",
       "      <th>2957</th>\n",
       "      <td>30000.0</td>\n",
       "      <td>2</td>\n",
       "      <td>3</td>\n",
       "      <td>1</td>\n",
       "      <td>48.0</td>\n",
       "      <td>1.0</td>\n",
       "      <td>-1.0</td>\n",
       "      <td>-1.0</td>\n",
       "      <td>-2.0</td>\n",
       "      <td>-2.0</td>\n",
       "      <td>-2.0</td>\n",
       "      <td>-100.0</td>\n",
       "      <td>100.0</td>\n",
       "      <td>0.0</td>\n",
       "      <td>0.0</td>\n",
       "      <td>0.0</td>\n",
       "      <td>0.0</td>\n",
       "      <td>200.0</td>\n",
       "      <td>0.0</td>\n",
       "      <td>0.0</td>\n",
       "      <td>0.0</td>\n",
       "      <td>0.0</td>\n",
       "      <td>0.0</td>\n",
       "      <td>0</td>\n",
       "    </tr>\n",
       "    <tr>\n",
       "      <th>2958</th>\n",
       "      <td>80000.0</td>\n",
       "      <td>2</td>\n",
       "      <td>3</td>\n",
       "      <td>1</td>\n",
       "      <td>39.0</td>\n",
       "      <td>-1.0</td>\n",
       "      <td>-1.0</td>\n",
       "      <td>-1.0</td>\n",
       "      <td>-1.0</td>\n",
       "      <td>-2.0</td>\n",
       "      <td>-1.0</td>\n",
       "      <td>5280.0</td>\n",
       "      <td>5000.0</td>\n",
       "      <td>5000.0</td>\n",
       "      <td>0.0</td>\n",
       "      <td>0.0</td>\n",
       "      <td>5000.0</td>\n",
       "      <td>5000.0</td>\n",
       "      <td>5000.0</td>\n",
       "      <td>0.0</td>\n",
       "      <td>5000.0</td>\n",
       "      <td>5000.0</td>\n",
       "      <td>470.0</td>\n",
       "      <td>0</td>\n",
       "    </tr>\n",
       "    <tr>\n",
       "      <th>2959</th>\n",
       "      <td>20000.0</td>\n",
       "      <td>1</td>\n",
       "      <td>3</td>\n",
       "      <td>2</td>\n",
       "      <td>26.0</td>\n",
       "      <td>-1.0</td>\n",
       "      <td>-1.0</td>\n",
       "      <td>-1.0</td>\n",
       "      <td>-2.0</td>\n",
       "      <td>-2.0</td>\n",
       "      <td>-2.0</td>\n",
       "      <td>96.0</td>\n",
       "      <td>780.0</td>\n",
       "      <td>0.0</td>\n",
       "      <td>0.0</td>\n",
       "      <td>0.0</td>\n",
       "      <td>0.0</td>\n",
       "      <td>1560.0</td>\n",
       "      <td>0.0</td>\n",
       "      <td>0.0</td>\n",
       "      <td>0.0</td>\n",
       "      <td>0.0</td>\n",
       "      <td>0.0</td>\n",
       "      <td>0</td>\n",
       "    </tr>\n",
       "    <tr>\n",
       "      <th>2960</th>\n",
       "      <td>80000.0</td>\n",
       "      <td>2</td>\n",
       "      <td>3</td>\n",
       "      <td>2</td>\n",
       "      <td>28.0</td>\n",
       "      <td>-1.0</td>\n",
       "      <td>-1.0</td>\n",
       "      <td>-1.0</td>\n",
       "      <td>-2.0</td>\n",
       "      <td>-2.0</td>\n",
       "      <td>-2.0</td>\n",
       "      <td>4280.0</td>\n",
       "      <td>2800.0</td>\n",
       "      <td>0.0</td>\n",
       "      <td>0.0</td>\n",
       "      <td>0.0</td>\n",
       "      <td>0.0</td>\n",
       "      <td>2800.0</td>\n",
       "      <td>0.0</td>\n",
       "      <td>0.0</td>\n",
       "      <td>0.0</td>\n",
       "      <td>0.0</td>\n",
       "      <td>0.0</td>\n",
       "      <td>0</td>\n",
       "    </tr>\n",
       "    <tr>\n",
       "      <th>2961</th>\n",
       "      <td>50000.0</td>\n",
       "      <td>2</td>\n",
       "      <td>3</td>\n",
       "      <td>1</td>\n",
       "      <td>51.0</td>\n",
       "      <td>-1.0</td>\n",
       "      <td>-1.0</td>\n",
       "      <td>-1.0</td>\n",
       "      <td>-1.0</td>\n",
       "      <td>-2.0</td>\n",
       "      <td>-2.0</td>\n",
       "      <td>752.0</td>\n",
       "      <td>300.0</td>\n",
       "      <td>5880.0</td>\n",
       "      <td>0.0</td>\n",
       "      <td>0.0</td>\n",
       "      <td>0.0</td>\n",
       "      <td>300.0</td>\n",
       "      <td>5880.0</td>\n",
       "      <td>0.0</td>\n",
       "      <td>0.0</td>\n",
       "      <td>0.0</td>\n",
       "      <td>0.0</td>\n",
       "      <td>1</td>\n",
       "    </tr>\n",
       "    <tr>\n",
       "      <th>2962</th>\n",
       "      <td>450000.0</td>\n",
       "      <td>2</td>\n",
       "      <td>2</td>\n",
       "      <td>1</td>\n",
       "      <td>38.0</td>\n",
       "      <td>-2.0</td>\n",
       "      <td>-2.0</td>\n",
       "      <td>-2.0</td>\n",
       "      <td>-2.0</td>\n",
       "      <td>-2.0</td>\n",
       "      <td>-2.0</td>\n",
       "      <td>390.0</td>\n",
       "      <td>390.0</td>\n",
       "      <td>390.0</td>\n",
       "      <td>390.0</td>\n",
       "      <td>390.0</td>\n",
       "      <td>390.0</td>\n",
       "      <td>390.0</td>\n",
       "      <td>780.0</td>\n",
       "      <td>390.0</td>\n",
       "      <td>390.0</td>\n",
       "      <td>390.0</td>\n",
       "      <td>390.0</td>\n",
       "      <td>1</td>\n",
       "    </tr>\n",
       "    <tr>\n",
       "      <th>2963</th>\n",
       "      <td>50000.0</td>\n",
       "      <td>2</td>\n",
       "      <td>2</td>\n",
       "      <td>1</td>\n",
       "      <td>44.0</td>\n",
       "      <td>-2.0</td>\n",
       "      <td>-2.0</td>\n",
       "      <td>-2.0</td>\n",
       "      <td>-2.0</td>\n",
       "      <td>-2.0</td>\n",
       "      <td>-2.0</td>\n",
       "      <td>1473.0</td>\n",
       "      <td>390.0</td>\n",
       "      <td>390.0</td>\n",
       "      <td>390.0</td>\n",
       "      <td>390.0</td>\n",
       "      <td>0.0</td>\n",
       "      <td>390.0</td>\n",
       "      <td>390.0</td>\n",
       "      <td>390.0</td>\n",
       "      <td>390.0</td>\n",
       "      <td>0.0</td>\n",
       "      <td>780.0</td>\n",
       "      <td>0</td>\n",
       "    </tr>\n",
       "    <tr>\n",
       "      <th>2964</th>\n",
       "      <td>290000.0</td>\n",
       "      <td>2</td>\n",
       "      <td>2</td>\n",
       "      <td>1</td>\n",
       "      <td>39.0</td>\n",
       "      <td>1.0</td>\n",
       "      <td>-2.0</td>\n",
       "      <td>-2.0</td>\n",
       "      <td>-2.0</td>\n",
       "      <td>-2.0</td>\n",
       "      <td>-2.0</td>\n",
       "      <td>-70.0</td>\n",
       "      <td>9540.0</td>\n",
       "      <td>390.0</td>\n",
       "      <td>3184.0</td>\n",
       "      <td>390.0</td>\n",
       "      <td>390.0</td>\n",
       "      <td>10000.0</td>\n",
       "      <td>800.0</td>\n",
       "      <td>3184.0</td>\n",
       "      <td>390.0</td>\n",
       "      <td>390.0</td>\n",
       "      <td>6617.0</td>\n",
       "      <td>0</td>\n",
       "    </tr>\n",
       "  </tbody>\n",
       "</table>\n",
       "</div>"
      ],
      "text/plain": [
       "      limit_balance  sex  education_level  marital_status   age  pay_0  pay_2  \\\n",
       "2955       360000.0    2                2               2  26.0   -1.0   -1.0   \n",
       "2956       100000.0    1                3               1  40.0    0.0    0.0   \n",
       "2957        30000.0    2                3               1  48.0    1.0   -1.0   \n",
       "2958        80000.0    2                3               1  39.0   -1.0   -1.0   \n",
       "2959        20000.0    1                3               2  26.0   -1.0   -1.0   \n",
       "2960        80000.0    2                3               2  28.0   -1.0   -1.0   \n",
       "2961        50000.0    2                3               1  51.0   -1.0   -1.0   \n",
       "2962       450000.0    2                2               1  38.0   -2.0   -2.0   \n",
       "2963        50000.0    2                2               1  44.0   -2.0   -2.0   \n",
       "2964       290000.0    2                2               1  39.0    1.0   -2.0   \n",
       "\n",
       "      pay_3  pay_4  pay_5  pay_6  bill_amt_1  bill_amt_2  bill_amt_3  \\\n",
       "2955   -1.0   -1.0   -2.0   -2.0      1968.0       459.0      2500.0   \n",
       "2956   -1.0   -1.0   -2.0   -2.0     12878.0      7702.0      2377.0   \n",
       "2957   -1.0   -2.0   -2.0   -2.0      -100.0       100.0         0.0   \n",
       "2958   -1.0   -1.0   -2.0   -1.0      5280.0      5000.0      5000.0   \n",
       "2959   -1.0   -2.0   -2.0   -2.0        96.0       780.0         0.0   \n",
       "2960   -1.0   -2.0   -2.0   -2.0      4280.0      2800.0         0.0   \n",
       "2961   -1.0   -1.0   -2.0   -2.0       752.0       300.0      5880.0   \n",
       "2962   -2.0   -2.0   -2.0   -2.0       390.0       390.0       390.0   \n",
       "2963   -2.0   -2.0   -2.0   -2.0      1473.0       390.0       390.0   \n",
       "2964   -2.0   -2.0   -2.0   -2.0       -70.0      9540.0       390.0   \n",
       "\n",
       "      bill_amt_4  bill_amt_5  bill_amt_6  pay_amt_1  pay_amt_2  pay_amt_3  \\\n",
       "2955         0.0         0.0         0.0      463.0     2500.0        0.0   \n",
       "2956         0.0         0.0         0.0     2000.0     2377.0    40000.0   \n",
       "2957         0.0         0.0         0.0      200.0        0.0        0.0   \n",
       "2958         0.0         0.0      5000.0     5000.0     5000.0        0.0   \n",
       "2959         0.0         0.0         0.0     1560.0        0.0        0.0   \n",
       "2960         0.0         0.0         0.0     2800.0        0.0        0.0   \n",
       "2961         0.0         0.0         0.0      300.0     5880.0        0.0   \n",
       "2962       390.0       390.0       390.0      390.0      780.0      390.0   \n",
       "2963       390.0       390.0         0.0      390.0      390.0      390.0   \n",
       "2964      3184.0       390.0       390.0    10000.0      800.0     3184.0   \n",
       "\n",
       "      pay_amt_4  pay_amt_5  pay_amt_6  default_payment_next_month  \n",
       "2955        0.0        0.0        0.0                           0  \n",
       "2956        0.0        0.0        0.0                           0  \n",
       "2957        0.0        0.0        0.0                           0  \n",
       "2958     5000.0     5000.0      470.0                           0  \n",
       "2959        0.0        0.0        0.0                           0  \n",
       "2960        0.0        0.0        0.0                           0  \n",
       "2961        0.0        0.0        0.0                           1  \n",
       "2962      390.0      390.0      390.0                           1  \n",
       "2963      390.0        0.0      780.0                           0  \n",
       "2964      390.0      390.0     6617.0                           0  "
      ]
     },
     "execution_count": 113,
     "metadata": {},
     "output_type": "execute_result"
    }
   ],
   "source": [
    "df.tail(10)"
   ]
  },
  {
   "cell_type": "code",
   "execution_count": 114,
   "metadata": {},
   "outputs": [
    {
     "name": "stdout",
     "output_type": "stream",
     "text": [
      "<class 'pandas.core.frame.DataFrame'>\n",
      "RangeIndex: 2965 entries, 0 to 2964\n",
      "Data columns (total 24 columns):\n",
      " #   Column                      Non-Null Count  Dtype  \n",
      "---  ------                      --------------  -----  \n",
      " 0   limit_balance               2965 non-null   float64\n",
      " 1   sex                         2965 non-null   int64  \n",
      " 2   education_level             2965 non-null   int64  \n",
      " 3   marital_status              2965 non-null   int64  \n",
      " 4   age                         2965 non-null   float64\n",
      " 5   pay_0                       2965 non-null   float64\n",
      " 6   pay_2                       2965 non-null   float64\n",
      " 7   pay_3                       2965 non-null   float64\n",
      " 8   pay_4                       2965 non-null   float64\n",
      " 9   pay_5                       2965 non-null   float64\n",
      " 10  pay_6                       2965 non-null   float64\n",
      " 11  bill_amt_1                  2965 non-null   float64\n",
      " 12  bill_amt_2                  2965 non-null   float64\n",
      " 13  bill_amt_3                  2965 non-null   float64\n",
      " 14  bill_amt_4                  2965 non-null   float64\n",
      " 15  bill_amt_5                  2965 non-null   float64\n",
      " 16  bill_amt_6                  2965 non-null   float64\n",
      " 17  pay_amt_1                   2965 non-null   float64\n",
      " 18  pay_amt_2                   2965 non-null   float64\n",
      " 19  pay_amt_3                   2965 non-null   float64\n",
      " 20  pay_amt_4                   2965 non-null   float64\n",
      " 21  pay_amt_5                   2965 non-null   float64\n",
      " 22  pay_amt_6                   2965 non-null   float64\n",
      " 23  default_payment_next_month  2965 non-null   int64  \n",
      "dtypes: float64(20), int64(4)\n",
      "memory usage: 556.1 KB\n"
     ]
    }
   ],
   "source": [
    "df.info()"
   ]
  },
  {
   "cell_type": "code",
   "execution_count": 115,
   "metadata": {},
   "outputs": [
    {
     "data": {
      "text/plain": [
       "limit_balance                 0\n",
       "sex                           0\n",
       "education_level               0\n",
       "marital_status                0\n",
       "age                           0\n",
       "pay_0                         0\n",
       "pay_2                         0\n",
       "pay_3                         0\n",
       "pay_4                         0\n",
       "pay_5                         0\n",
       "pay_6                         0\n",
       "bill_amt_1                    0\n",
       "bill_amt_2                    0\n",
       "bill_amt_3                    0\n",
       "bill_amt_4                    0\n",
       "bill_amt_5                    0\n",
       "bill_amt_6                    0\n",
       "pay_amt_1                     0\n",
       "pay_amt_2                     0\n",
       "pay_amt_3                     0\n",
       "pay_amt_4                     0\n",
       "pay_amt_5                     0\n",
       "pay_amt_6                     0\n",
       "default_payment_next_month    0\n",
       "dtype: int64"
      ]
     },
     "execution_count": 115,
     "metadata": {},
     "output_type": "execute_result"
    }
   ],
   "source": [
    "df.isnull().sum()"
   ]
  },
  {
   "cell_type": "code",
   "execution_count": 116,
   "metadata": {},
   "outputs": [
    {
     "name": "stdout",
     "output_type": "stream",
     "text": [
      "False\n"
     ]
    }
   ],
   "source": [
    "print (df.isnull().values.any())"
   ]
  },
  {
   "attachments": {},
   "cell_type": "markdown",
   "metadata": {},
   "source": [
    "Terlihat bahwa data tidak terdapat missing value standar maupun non standard."
   ]
  },
  {
   "cell_type": "code",
   "execution_count": 117,
   "metadata": {},
   "outputs": [
    {
     "data": {
      "text/plain": [
       "1"
      ]
     },
     "execution_count": 117,
     "metadata": {},
     "output_type": "execute_result"
    }
   ],
   "source": [
    "df.duplicated().sum()"
   ]
  },
  {
   "cell_type": "code",
   "execution_count": 118,
   "metadata": {},
   "outputs": [],
   "source": [
    "df = df.drop_duplicates()"
   ]
  },
  {
   "attachments": {},
   "cell_type": "markdown",
   "metadata": {},
   "source": [
    "----"
   ]
  },
  {
   "cell_type": "code",
   "execution_count": 119,
   "metadata": {},
   "outputs": [
    {
     "data": {
      "text/plain": [
       "163356.95006747637"
      ]
     },
     "execution_count": 119,
     "metadata": {},
     "output_type": "execute_result"
    }
   ],
   "source": [
    "df.limit_balance.mean()"
   ]
  },
  {
   "attachments": {},
   "cell_type": "markdown",
   "metadata": {},
   "source": [
    "***`Limit Balance`*** merupakan batasan jumlah kredit uang yang diberikan oleh bank baik kepada individu maupun kepada keluarga pemegang kartu kredit."
   ]
  },
  {
   "cell_type": "code",
   "execution_count": 120,
   "metadata": {},
   "outputs": [
    {
     "data": {
      "text/plain": [
       "2    1801\n",
       "1    1163\n",
       "Name: sex, dtype: int64"
      ]
     },
     "execution_count": 120,
     "metadata": {},
     "output_type": "execute_result"
    }
   ],
   "source": [
    "df.sex.value_counts()"
   ]
  },
  {
   "attachments": {},
   "cell_type": "markdown",
   "metadata": {},
   "source": [
    "***`Sex`*** merupakan jenis kelamin dengan 1 merupakan laki-laki (Male) dan 2 adalah wanita (Female)."
   ]
  },
  {
   "cell_type": "code",
   "execution_count": 121,
   "metadata": {},
   "outputs": [
    {
     "data": {
      "text/plain": [
       "2    1594\n",
       "1    1331\n",
       "3      35\n",
       "0       4\n",
       "Name: marital_status, dtype: int64"
      ]
     },
     "execution_count": 121,
     "metadata": {},
     "output_type": "execute_result"
    }
   ],
   "source": [
    "df.marital_status.value_counts()"
   ]
  },
  {
   "attachments": {},
   "cell_type": "markdown",
   "metadata": {},
   "source": [
    "***`Marital Status`*** adalah status pernikahan pada pengguna kredit bank dimana:\n",
    "\n",
    "`1` adalah Nikah (*Married*)\n",
    "\n",
    "`2` adalah Belum Menikah (*Single*)\n",
    "\n",
    "`3` adalah Lainnya (*Others*)"
   ]
  },
  {
   "cell_type": "code",
   "execution_count": 122,
   "metadata": {},
   "outputs": [],
   "source": [
    "df['marital_status'] = np.where((df.marital_status == 0),3,df.marital_status).astype('int64') "
   ]
  },
  {
   "attachments": {},
   "cell_type": "markdown",
   "metadata": {},
   "source": [
    "Terdapat status marital_status dengan angka 0 yang dimana tidak ada keterangan untuk angka tersebut. Oleh karena itu, kita masukkan data tersebut ke status nomor 3 atau dengan status marital adalah lainnya."
   ]
  },
  {
   "cell_type": "code",
   "execution_count": 123,
   "metadata": {},
   "outputs": [
    {
     "data": {
      "text/plain": [
       "2    1594\n",
       "1    1331\n",
       "3      39\n",
       "Name: marital_status, dtype: int64"
      ]
     },
     "execution_count": 123,
     "metadata": {},
     "output_type": "execute_result"
    }
   ],
   "source": [
    "df.marital_status.value_counts()"
   ]
  },
  {
   "cell_type": "code",
   "execution_count": 124,
   "metadata": {},
   "outputs": [
    {
     "data": {
      "text/plain": [
       "2    1400\n",
       "1    1038\n",
       "3     483\n",
       "5      24\n",
       "4      13\n",
       "6       4\n",
       "0       2\n",
       "Name: education_level, dtype: int64"
      ]
     },
     "execution_count": 124,
     "metadata": {},
     "output_type": "execute_result"
    }
   ],
   "source": [
    "df.education_level.value_counts()"
   ]
  },
  {
   "attachments": {},
   "cell_type": "markdown",
   "metadata": {},
   "source": [
    "***`Education Level`*** adalah tingkatan akademik terakhir pengguna kartu kredit yang tercatat pada sistem dimana:\n",
    "\n",
    "`1` adalah lulusan sekolah menengah kebawah (**SD/SMP**)\n",
    "\n",
    "`2` adalah lulusan sarjana (**Sarjana/Magister/Doktoral**)\n",
    "\n",
    "`3` adalah lulusan sekolah menengah atas (**SMA**)\n",
    "\n",
    "`4` adalah lulusan sekolah lainnya."
   ]
  },
  {
   "cell_type": "code",
   "execution_count": 125,
   "metadata": {},
   "outputs": [],
   "source": [
    "df['education_level'] = np.where((df.education_level == 0),4,df.education_level).astype('int64')\n",
    "df['education_level'] = np.where((df.education_level == 5),4,df.education_level).astype('int64')\n",
    "df['education_level'] = np.where((df.education_level == 6),4,df.education_level).astype('int64')"
   ]
  },
  {
   "cell_type": "code",
   "execution_count": 126,
   "metadata": {},
   "outputs": [
    {
     "data": {
      "text/plain": [
       "2    1400\n",
       "1    1038\n",
       "3     483\n",
       "4      43\n",
       "Name: education_level, dtype: int64"
      ]
     },
     "execution_count": 126,
     "metadata": {},
     "output_type": "execute_result"
    }
   ],
   "source": [
    "df.education_level.value_counts()"
   ]
  },
  {
   "attachments": {},
   "cell_type": "markdown",
   "metadata": {},
   "source": [
    "Terdapat status education_level dengan angka 0, 5, dan 6 yang dimana tidak terdapat keterangan untuk angka tersebut. Oleh karena itu, kita masukkan data tersebut ke status nomor 4 atau dengan keterangan adalah lulusan sekolah lainnya (*`Others`*)."
   ]
  },
  {
   "cell_type": "code",
   "execution_count": 127,
   "metadata": {},
   "outputs": [
    {
     "data": {
      "text/plain": [
       " 0.0    1516\n",
       "-1.0     540\n",
       " 1.0     355\n",
       " 2.0     262\n",
       "-2.0     247\n",
       " 3.0      29\n",
       " 4.0       7\n",
       " 8.0       3\n",
       " 5.0       2\n",
       " 7.0       2\n",
       " 6.0       1\n",
       "Name: pay_0, dtype: int64"
      ]
     },
     "execution_count": 127,
     "metadata": {},
     "output_type": "execute_result"
    }
   ],
   "source": [
    "df.pay_0.value_counts()"
   ]
  },
  {
   "cell_type": "code",
   "execution_count": 128,
   "metadata": {},
   "outputs": [
    {
     "data": {
      "text/plain": [
       " 0.0    1607\n",
       "-1.0     580\n",
       " 2.0     374\n",
       "-2.0     352\n",
       " 3.0      32\n",
       " 4.0       8\n",
       " 1.0       4\n",
       " 7.0       3\n",
       " 5.0       2\n",
       " 6.0       2\n",
       "Name: pay_2, dtype: int64"
      ]
     },
     "execution_count": 128,
     "metadata": {},
     "output_type": "execute_result"
    }
   ],
   "source": [
    "df.pay_2.value_counts()"
   ]
  },
  {
   "cell_type": "code",
   "execution_count": 129,
   "metadata": {},
   "outputs": [
    {
     "data": {
      "text/plain": [
       " 0.0    1610\n",
       "-1.0     580\n",
       " 2.0     368\n",
       "-2.0     366\n",
       " 3.0      22\n",
       " 4.0       8\n",
       " 6.0       4\n",
       " 5.0       3\n",
       " 7.0       3\n",
       "Name: pay_3, dtype: int64"
      ]
     },
     "execution_count": 129,
     "metadata": {},
     "output_type": "execute_result"
    }
   ],
   "source": [
    "df.pay_3.value_counts()"
   ]
  },
  {
   "cell_type": "code",
   "execution_count": 130,
   "metadata": {},
   "outputs": [
    {
     "data": {
      "text/plain": [
       " 0.0    1667\n",
       "-1.0     532\n",
       "-2.0     407\n",
       " 2.0     324\n",
       " 3.0      14\n",
       " 4.0       7\n",
       " 7.0       6\n",
       " 5.0       5\n",
       " 6.0       1\n",
       " 8.0       1\n",
       "Name: pay_4, dtype: int64"
      ]
     },
     "execution_count": 130,
     "metadata": {},
     "output_type": "execute_result"
    }
   ],
   "source": [
    "df.pay_4.value_counts()"
   ]
  },
  {
   "cell_type": "code",
   "execution_count": 131,
   "metadata": {},
   "outputs": [
    {
     "data": {
      "text/plain": [
       " 0.0    1702\n",
       "-1.0     504\n",
       "-2.0     440\n",
       " 2.0     280\n",
       " 3.0      19\n",
       " 4.0       9\n",
       " 7.0       7\n",
       " 5.0       2\n",
       " 6.0       1\n",
       "Name: pay_5, dtype: int64"
      ]
     },
     "execution_count": 131,
     "metadata": {},
     "output_type": "execute_result"
    }
   ],
   "source": [
    "df.pay_5.value_counts()"
   ]
  },
  {
   "cell_type": "code",
   "execution_count": 132,
   "metadata": {},
   "outputs": [
    {
     "data": {
      "text/plain": [
       " 0.0    1626\n",
       "-1.0     540\n",
       "-2.0     469\n",
       " 2.0     297\n",
       " 3.0      21\n",
       " 7.0       6\n",
       " 6.0       3\n",
       " 4.0       2\n",
       "Name: pay_6, dtype: int64"
      ]
     },
     "execution_count": 132,
     "metadata": {},
     "output_type": "execute_result"
    }
   ],
   "source": [
    "df.pay_6.value_counts()"
   ]
  },
  {
   "attachments": {},
   "cell_type": "markdown",
   "metadata": {},
   "source": [
    "Kategori pay dapat diinterpretasikan sebagai berikut:\n",
    "\n",
    "`-2` : adalah kategori pengguna kartu kredit yang membayar cicilan kredit perbulannya melebihi batas minimal yang harus dibayarkan pada bulan tersebut dan memiliki track record peminjaman credit yang tidak besar atau tidak aktif dalam melakukan peminjaman kredit bank pada bulan tersebut dengan tidak memiliki tagihan yang harus dibayarkan pada bulan tersebut.\n",
    "\n",
    "`-1` : adalah kategori pengguna kartu kredit yang membayar cicilan kredit perbulannya melebihi batas minimal yang harus dibayarkan pada bulan tersebut dan memiliki track record peminjaman credit yang tidak besar.\n",
    "\n",
    "`0` : adalah kategori pengguna kartu kredit yang telah membayar batas minimal cicilan kredit perbulannya.\n",
    "\n",
    "`1` : adalah kategori pengguna kartu kredit yang tidak bisa membayar batas minimal cicilan kredit perbulannya dan dinyatakan default pada bulan tersebut.\n",
    "\n",
    "`2` : adalah kategori pengguna kartu kredit yang tidak bisa membayar batas minimal cicilan kredit perbulannya dan dinyatakan default pada bulan tersebut dan 1 bulan sebelumnya.\n",
    "\n",
    "`3` : adalah kategori pengguna kartu kredit yang tidak bisa membayar batas minimal cicilan kredit perbulannya dan dinyatakan default pada bulan tersebut dan 2 bulan sebelumnya.\n",
    "\n",
    "`4` : adalah kategori pengguna kartu kredit yang tidak bisa membayar batas minimal cicilan kredit perbulannya dan dinyatakan default pada bulan tersebut dan 3 bulan sebelumnya.\n",
    "\n",
    "`5` : adalah kategori pengguna kartu kredit yang tidak bisa membayar batas minimal cicilan kredit perbulannya dan dinyatakan default pada bulan tersebut dan 4 bulan sebelumnya.\n",
    "\n",
    "`6` : adalah kategori pengguna kartu kredit yang tidak bisa membayar batas minimal cicilan kredit perbulannya dan dinyatakan default pada bulan tersebut dan 5 bulan sebelumnya.\n",
    "\n",
    "`7` : adalah kategori pengguna kartu kredit yang tidak bisa membayar batas minimal cicilan kredit perbulannya dan dinyatakan default pada bulan tersebut dan 6 bulan sebelumnya.\n",
    "\n",
    "`8` : adalah kategori pengguna kartu kredit yang tidak bisa membayar batas minimal cicilan kredit perbulannya dan dinyatakan default pada bulan tersebut dan 7 bulan sebelumnya."
   ]
  },
  {
   "attachments": {},
   "cell_type": "markdown",
   "metadata": {},
   "source": [
    "Untuk mempermudah analisis, akan dilakukan penggeseran ulang kolom."
   ]
  },
  {
   "cell_type": "code",
   "execution_count": 133,
   "metadata": {},
   "outputs": [],
   "source": [
    "df1 = df.loc[:, ['sex', 'education_level', 'marital_status', 'age', 'limit_balance', 'pay_6', 'bill_amt_6', 'pay_amt_6', 'pay_5', 'bill_amt_5', 'pay_amt_5', 'pay_4', 'bill_amt_4', 'pay_amt_4', 'pay_3', 'bill_amt_3', 'pay_amt_3', 'pay_2', 'bill_amt_2', 'pay_amt_2', 'pay_0', 'bill_amt_1', 'pay_amt_1', 'default_payment_next_month']]"
   ]
  },
  {
   "cell_type": "code",
   "execution_count": 134,
   "metadata": {},
   "outputs": [
    {
     "data": {
      "text/html": [
       "<div>\n",
       "<style scoped>\n",
       "    .dataframe tbody tr th:only-of-type {\n",
       "        vertical-align: middle;\n",
       "    }\n",
       "\n",
       "    .dataframe tbody tr th {\n",
       "        vertical-align: top;\n",
       "    }\n",
       "\n",
       "    .dataframe thead th {\n",
       "        text-align: right;\n",
       "    }\n",
       "</style>\n",
       "<table border=\"1\" class=\"dataframe\">\n",
       "  <thead>\n",
       "    <tr style=\"text-align: right;\">\n",
       "      <th></th>\n",
       "      <th>sex</th>\n",
       "      <th>education_level</th>\n",
       "      <th>marital_status</th>\n",
       "      <th>age</th>\n",
       "      <th>limit_balance</th>\n",
       "      <th>pay_6</th>\n",
       "      <th>bill_amt_6</th>\n",
       "      <th>pay_amt_6</th>\n",
       "      <th>pay_5</th>\n",
       "      <th>bill_amt_5</th>\n",
       "      <th>pay_amt_5</th>\n",
       "      <th>pay_4</th>\n",
       "      <th>bill_amt_4</th>\n",
       "      <th>pay_amt_4</th>\n",
       "      <th>pay_3</th>\n",
       "      <th>bill_amt_3</th>\n",
       "      <th>pay_amt_3</th>\n",
       "      <th>pay_2</th>\n",
       "      <th>bill_amt_2</th>\n",
       "      <th>pay_amt_2</th>\n",
       "      <th>pay_0</th>\n",
       "      <th>bill_amt_1</th>\n",
       "      <th>pay_amt_1</th>\n",
       "      <th>default_payment_next_month</th>\n",
       "    </tr>\n",
       "  </thead>\n",
       "  <tbody>\n",
       "    <tr>\n",
       "      <th>0</th>\n",
       "      <td>1</td>\n",
       "      <td>4</td>\n",
       "      <td>1</td>\n",
       "      <td>54.0</td>\n",
       "      <td>80000.0</td>\n",
       "      <td>0.0</td>\n",
       "      <td>17643.0</td>\n",
       "      <td>348.0</td>\n",
       "      <td>0.0</td>\n",
       "      <td>26210.0</td>\n",
       "      <td>542.0</td>\n",
       "      <td>0.0</td>\n",
       "      <td>29296.0</td>\n",
       "      <td>2232.0</td>\n",
       "      <td>0.0</td>\n",
       "      <td>62290.0</td>\n",
       "      <td>1336.0</td>\n",
       "      <td>0.0</td>\n",
       "      <td>61808.0</td>\n",
       "      <td>2208.0</td>\n",
       "      <td>0.0</td>\n",
       "      <td>61454.0</td>\n",
       "      <td>2545.0</td>\n",
       "      <td>1</td>\n",
       "    </tr>\n",
       "    <tr>\n",
       "      <th>1</th>\n",
       "      <td>1</td>\n",
       "      <td>4</td>\n",
       "      <td>1</td>\n",
       "      <td>49.0</td>\n",
       "      <td>200000.0</td>\n",
       "      <td>0.0</td>\n",
       "      <td>48984.0</td>\n",
       "      <td>3000.0</td>\n",
       "      <td>0.0</td>\n",
       "      <td>50235.0</td>\n",
       "      <td>2500.0</td>\n",
       "      <td>0.0</td>\n",
       "      <td>50146.0</td>\n",
       "      <td>3480.0</td>\n",
       "      <td>0.0</td>\n",
       "      <td>50942.0</td>\n",
       "      <td>2500.0</td>\n",
       "      <td>0.0</td>\n",
       "      <td>49599.0</td>\n",
       "      <td>2164.0</td>\n",
       "      <td>0.0</td>\n",
       "      <td>49221.0</td>\n",
       "      <td>1689.0</td>\n",
       "      <td>0</td>\n",
       "    </tr>\n",
       "    <tr>\n",
       "      <th>2</th>\n",
       "      <td>2</td>\n",
       "      <td>4</td>\n",
       "      <td>2</td>\n",
       "      <td>22.0</td>\n",
       "      <td>20000.0</td>\n",
       "      <td>0.0</td>\n",
       "      <td>0.0</td>\n",
       "      <td>0.0</td>\n",
       "      <td>0.0</td>\n",
       "      <td>500.0</td>\n",
       "      <td>1500.0</td>\n",
       "      <td>0.0</td>\n",
       "      <td>1434.0</td>\n",
       "      <td>0.0</td>\n",
       "      <td>0.0</td>\n",
       "      <td>15535.0</td>\n",
       "      <td>900.0</td>\n",
       "      <td>0.0</td>\n",
       "      <td>19420.0</td>\n",
       "      <td>1019.0</td>\n",
       "      <td>0.0</td>\n",
       "      <td>19568.0</td>\n",
       "      <td>4641.0</td>\n",
       "      <td>1</td>\n",
       "    </tr>\n",
       "    <tr>\n",
       "      <th>3</th>\n",
       "      <td>2</td>\n",
       "      <td>4</td>\n",
       "      <td>2</td>\n",
       "      <td>33.0</td>\n",
       "      <td>260000.0</td>\n",
       "      <td>0.0</td>\n",
       "      <td>29890.0</td>\n",
       "      <td>5000.0</td>\n",
       "      <td>0.0</td>\n",
       "      <td>30767.0</td>\n",
       "      <td>1085.0</td>\n",
       "      <td>0.0</td>\n",
       "      <td>27821.0</td>\n",
       "      <td>5000.0</td>\n",
       "      <td>0.0</td>\n",
       "      <td>27086.0</td>\n",
       "      <td>1137.0</td>\n",
       "      <td>0.0</td>\n",
       "      <td>22815.0</td>\n",
       "      <td>5000.0</td>\n",
       "      <td>0.0</td>\n",
       "      <td>18457.0</td>\n",
       "      <td>5000.0</td>\n",
       "      <td>0</td>\n",
       "    </tr>\n",
       "    <tr>\n",
       "      <th>4</th>\n",
       "      <td>1</td>\n",
       "      <td>4</td>\n",
       "      <td>2</td>\n",
       "      <td>32.0</td>\n",
       "      <td>150000.0</td>\n",
       "      <td>0.0</td>\n",
       "      <td>146411.0</td>\n",
       "      <td>5600.0</td>\n",
       "      <td>0.0</td>\n",
       "      <td>143375.0</td>\n",
       "      <td>4709.0</td>\n",
       "      <td>-1.0</td>\n",
       "      <td>150464.0</td>\n",
       "      <td>4600.0</td>\n",
       "      <td>0.0</td>\n",
       "      <td>161192.0</td>\n",
       "      <td>157436.0</td>\n",
       "      <td>0.0</td>\n",
       "      <td>68686.0</td>\n",
       "      <td>146896.0</td>\n",
       "      <td>0.0</td>\n",
       "      <td>159919.0</td>\n",
       "      <td>4019.0</td>\n",
       "      <td>0</td>\n",
       "    </tr>\n",
       "    <tr>\n",
       "      <th>5</th>\n",
       "      <td>2</td>\n",
       "      <td>4</td>\n",
       "      <td>2</td>\n",
       "      <td>32.0</td>\n",
       "      <td>300000.0</td>\n",
       "      <td>-1.0</td>\n",
       "      <td>700.0</td>\n",
       "      <td>1400.0</td>\n",
       "      <td>0.0</td>\n",
       "      <td>-450.0</td>\n",
       "      <td>2000.0</td>\n",
       "      <td>0.0</td>\n",
       "      <td>65150.0</td>\n",
       "      <td>0.0</td>\n",
       "      <td>0.0</td>\n",
       "      <td>64747.0</td>\n",
       "      <td>1303.0</td>\n",
       "      <td>0.0</td>\n",
       "      <td>65235.0</td>\n",
       "      <td>1491.0</td>\n",
       "      <td>0.0</td>\n",
       "      <td>54053.0</td>\n",
       "      <td>15235.0</td>\n",
       "      <td>0</td>\n",
       "    </tr>\n",
       "    <tr>\n",
       "      <th>6</th>\n",
       "      <td>1</td>\n",
       "      <td>1</td>\n",
       "      <td>1</td>\n",
       "      <td>45.0</td>\n",
       "      <td>130000.0</td>\n",
       "      <td>0.0</td>\n",
       "      <td>65099.0</td>\n",
       "      <td>2291.0</td>\n",
       "      <td>0.0</td>\n",
       "      <td>63832.0</td>\n",
       "      <td>2366.0</td>\n",
       "      <td>0.0</td>\n",
       "      <td>62377.0</td>\n",
       "      <td>2354.0</td>\n",
       "      <td>0.0</td>\n",
       "      <td>61156.0</td>\n",
       "      <td>2129.0</td>\n",
       "      <td>0.0</td>\n",
       "      <td>59134.0</td>\n",
       "      <td>2908.0</td>\n",
       "      <td>0.0</td>\n",
       "      <td>58180.0</td>\n",
       "      <td>2886.0</td>\n",
       "      <td>0</td>\n",
       "    </tr>\n",
       "    <tr>\n",
       "      <th>7</th>\n",
       "      <td>1</td>\n",
       "      <td>1</td>\n",
       "      <td>1</td>\n",
       "      <td>58.0</td>\n",
       "      <td>200000.0</td>\n",
       "      <td>0.0</td>\n",
       "      <td>129167.0</td>\n",
       "      <td>4698.0</td>\n",
       "      <td>0.0</td>\n",
       "      <td>126921.0</td>\n",
       "      <td>4677.0</td>\n",
       "      <td>0.0</td>\n",
       "      <td>124647.0</td>\n",
       "      <td>4597.0</td>\n",
       "      <td>0.0</td>\n",
       "      <td>122214.0</td>\n",
       "      <td>4446.0</td>\n",
       "      <td>0.0</td>\n",
       "      <td>195970.0</td>\n",
       "      <td>4417.0</td>\n",
       "      <td>0.0</td>\n",
       "      <td>192461.0</td>\n",
       "      <td>7822.0</td>\n",
       "      <td>0</td>\n",
       "    </tr>\n",
       "    <tr>\n",
       "      <th>8</th>\n",
       "      <td>1</td>\n",
       "      <td>1</td>\n",
       "      <td>1</td>\n",
       "      <td>39.0</td>\n",
       "      <td>500000.0</td>\n",
       "      <td>0.0</td>\n",
       "      <td>204975.0</td>\n",
       "      <td>7509.0</td>\n",
       "      <td>0.0</td>\n",
       "      <td>137406.0</td>\n",
       "      <td>207440.0</td>\n",
       "      <td>0.0</td>\n",
       "      <td>174500.0</td>\n",
       "      <td>5224.0</td>\n",
       "      <td>0.0</td>\n",
       "      <td>171106.0</td>\n",
       "      <td>4603.0</td>\n",
       "      <td>0.0</td>\n",
       "      <td>167378.0</td>\n",
       "      <td>4607.0</td>\n",
       "      <td>0.0</td>\n",
       "      <td>133598.0</td>\n",
       "      <td>54209.0</td>\n",
       "      <td>0</td>\n",
       "    </tr>\n",
       "    <tr>\n",
       "      <th>9</th>\n",
       "      <td>1</td>\n",
       "      <td>1</td>\n",
       "      <td>1</td>\n",
       "      <td>48.0</td>\n",
       "      <td>230000.0</td>\n",
       "      <td>0.0</td>\n",
       "      <td>110094.0</td>\n",
       "      <td>2000.0</td>\n",
       "      <td>0.0</td>\n",
       "      <td>108101.0</td>\n",
       "      <td>4164.0</td>\n",
       "      <td>0.0</td>\n",
       "      <td>105508.0</td>\n",
       "      <td>4290.0</td>\n",
       "      <td>0.0</td>\n",
       "      <td>165107.0</td>\n",
       "      <td>3773.0</td>\n",
       "      <td>0.0</td>\n",
       "      <td>161797.0</td>\n",
       "      <td>6607.0</td>\n",
       "      <td>0.0</td>\n",
       "      <td>160879.0</td>\n",
       "      <td>7000.0</td>\n",
       "      <td>0</td>\n",
       "    </tr>\n",
       "  </tbody>\n",
       "</table>\n",
       "</div>"
      ],
      "text/plain": [
       "   sex  education_level  marital_status   age  limit_balance  pay_6  \\\n",
       "0    1                4               1  54.0        80000.0    0.0   \n",
       "1    1                4               1  49.0       200000.0    0.0   \n",
       "2    2                4               2  22.0        20000.0    0.0   \n",
       "3    2                4               2  33.0       260000.0    0.0   \n",
       "4    1                4               2  32.0       150000.0    0.0   \n",
       "5    2                4               2  32.0       300000.0   -1.0   \n",
       "6    1                1               1  45.0       130000.0    0.0   \n",
       "7    1                1               1  58.0       200000.0    0.0   \n",
       "8    1                1               1  39.0       500000.0    0.0   \n",
       "9    1                1               1  48.0       230000.0    0.0   \n",
       "\n",
       "   bill_amt_6  pay_amt_6  pay_5  bill_amt_5  pay_amt_5  pay_4  bill_amt_4  \\\n",
       "0     17643.0      348.0    0.0     26210.0      542.0    0.0     29296.0   \n",
       "1     48984.0     3000.0    0.0     50235.0     2500.0    0.0     50146.0   \n",
       "2         0.0        0.0    0.0       500.0     1500.0    0.0      1434.0   \n",
       "3     29890.0     5000.0    0.0     30767.0     1085.0    0.0     27821.0   \n",
       "4    146411.0     5600.0    0.0    143375.0     4709.0   -1.0    150464.0   \n",
       "5       700.0     1400.0    0.0      -450.0     2000.0    0.0     65150.0   \n",
       "6     65099.0     2291.0    0.0     63832.0     2366.0    0.0     62377.0   \n",
       "7    129167.0     4698.0    0.0    126921.0     4677.0    0.0    124647.0   \n",
       "8    204975.0     7509.0    0.0    137406.0   207440.0    0.0    174500.0   \n",
       "9    110094.0     2000.0    0.0    108101.0     4164.0    0.0    105508.0   \n",
       "\n",
       "   pay_amt_4  pay_3  bill_amt_3  pay_amt_3  pay_2  bill_amt_2  pay_amt_2  \\\n",
       "0     2232.0    0.0     62290.0     1336.0    0.0     61808.0     2208.0   \n",
       "1     3480.0    0.0     50942.0     2500.0    0.0     49599.0     2164.0   \n",
       "2        0.0    0.0     15535.0      900.0    0.0     19420.0     1019.0   \n",
       "3     5000.0    0.0     27086.0     1137.0    0.0     22815.0     5000.0   \n",
       "4     4600.0    0.0    161192.0   157436.0    0.0     68686.0   146896.0   \n",
       "5        0.0    0.0     64747.0     1303.0    0.0     65235.0     1491.0   \n",
       "6     2354.0    0.0     61156.0     2129.0    0.0     59134.0     2908.0   \n",
       "7     4597.0    0.0    122214.0     4446.0    0.0    195970.0     4417.0   \n",
       "8     5224.0    0.0    171106.0     4603.0    0.0    167378.0     4607.0   \n",
       "9     4290.0    0.0    165107.0     3773.0    0.0    161797.0     6607.0   \n",
       "\n",
       "   pay_0  bill_amt_1  pay_amt_1  default_payment_next_month  \n",
       "0    0.0     61454.0     2545.0                           1  \n",
       "1    0.0     49221.0     1689.0                           0  \n",
       "2    0.0     19568.0     4641.0                           1  \n",
       "3    0.0     18457.0     5000.0                           0  \n",
       "4    0.0    159919.0     4019.0                           0  \n",
       "5    0.0     54053.0    15235.0                           0  \n",
       "6    0.0     58180.0     2886.0                           0  \n",
       "7    0.0    192461.0     7822.0                           0  \n",
       "8    0.0    133598.0    54209.0                           0  \n",
       "9    0.0    160879.0     7000.0                           0  "
      ]
     },
     "execution_count": 134,
     "metadata": {},
     "output_type": "execute_result"
    }
   ],
   "source": [
    "df1.head(10)"
   ]
  },
  {
   "attachments": {},
   "cell_type": "markdown",
   "metadata": {},
   "source": [
    "# Exploratory Data Analysis"
   ]
  },
  {
   "cell_type": "code",
   "execution_count": 135,
   "metadata": {},
   "outputs": [
    {
     "data": {
      "text/html": [
       "<div>\n",
       "<style scoped>\n",
       "    .dataframe tbody tr th:only-of-type {\n",
       "        vertical-align: middle;\n",
       "    }\n",
       "\n",
       "    .dataframe tbody tr th {\n",
       "        vertical-align: top;\n",
       "    }\n",
       "\n",
       "    .dataframe thead th {\n",
       "        text-align: right;\n",
       "    }\n",
       "</style>\n",
       "<table border=\"1\" class=\"dataframe\">\n",
       "  <thead>\n",
       "    <tr style=\"text-align: right;\">\n",
       "      <th></th>\n",
       "      <th>sex</th>\n",
       "      <th>education_level</th>\n",
       "      <th>marital_status</th>\n",
       "      <th>age</th>\n",
       "      <th>limit_balance</th>\n",
       "      <th>pay_6</th>\n",
       "      <th>bill_amt_6</th>\n",
       "      <th>pay_amt_6</th>\n",
       "      <th>pay_5</th>\n",
       "      <th>bill_amt_5</th>\n",
       "      <th>pay_amt_5</th>\n",
       "      <th>pay_4</th>\n",
       "      <th>bill_amt_4</th>\n",
       "      <th>pay_amt_4</th>\n",
       "      <th>pay_3</th>\n",
       "      <th>bill_amt_3</th>\n",
       "      <th>pay_amt_3</th>\n",
       "      <th>pay_2</th>\n",
       "      <th>bill_amt_2</th>\n",
       "      <th>pay_amt_2</th>\n",
       "      <th>pay_0</th>\n",
       "      <th>bill_amt_1</th>\n",
       "      <th>pay_amt_1</th>\n",
       "      <th>default_payment_next_month</th>\n",
       "    </tr>\n",
       "  </thead>\n",
       "  <tbody>\n",
       "    <tr>\n",
       "      <th>count</th>\n",
       "      <td>2964.000000</td>\n",
       "      <td>2964.000000</td>\n",
       "      <td>2964.000000</td>\n",
       "      <td>2964.000000</td>\n",
       "      <td>2964.000000</td>\n",
       "      <td>2964.000000</td>\n",
       "      <td>2964.000000</td>\n",
       "      <td>2964.000000</td>\n",
       "      <td>2964.000000</td>\n",
       "      <td>2964.000000</td>\n",
       "      <td>2964.000000</td>\n",
       "      <td>2964.000000</td>\n",
       "      <td>2964.000000</td>\n",
       "      <td>2964.000000</td>\n",
       "      <td>2964.000000</td>\n",
       "      <td>2964.000000</td>\n",
       "      <td>2964.000000</td>\n",
       "      <td>2964.000000</td>\n",
       "      <td>2964.000000</td>\n",
       "      <td>2.964000e+03</td>\n",
       "      <td>2964.000000</td>\n",
       "      <td>2964.000000</td>\n",
       "      <td>2964.000000</td>\n",
       "      <td>2964.000000</td>\n",
       "    </tr>\n",
       "    <tr>\n",
       "      <th>mean</th>\n",
       "      <td>1.607625</td>\n",
       "      <td>1.841768</td>\n",
       "      <td>1.564103</td>\n",
       "      <td>35.193657</td>\n",
       "      <td>163356.950067</td>\n",
       "      <td>-0.254049</td>\n",
       "      <td>39786.491228</td>\n",
       "      <td>5384.517544</td>\n",
       "      <td>-0.224696</td>\n",
       "      <td>40969.898448</td>\n",
       "      <td>4914.944332</td>\n",
       "      <td>-0.184548</td>\n",
       "      <td>44104.558367</td>\n",
       "      <td>4562.914980</td>\n",
       "      <td>-0.141026</td>\n",
       "      <td>48256.032726</td>\n",
       "      <td>5152.234818</td>\n",
       "      <td>-0.121795</td>\n",
       "      <td>50666.241228</td>\n",
       "      <td>6.274611e+03</td>\n",
       "      <td>0.004723</td>\n",
       "      <td>52135.889001</td>\n",
       "      <td>6351.044872</td>\n",
       "      <td>0.214238</td>\n",
       "    </tr>\n",
       "    <tr>\n",
       "      <th>std</th>\n",
       "      <td>0.488362</td>\n",
       "      <td>0.739144</td>\n",
       "      <td>0.521822</td>\n",
       "      <td>9.110949</td>\n",
       "      <td>125049.701016</td>\n",
       "      <td>1.167061</td>\n",
       "      <td>57308.498646</td>\n",
       "      <td>17278.585006</td>\n",
       "      <td>1.158739</td>\n",
       "      <td>58276.878626</td>\n",
       "      <td>16736.920951</td>\n",
       "      <td>1.178049</td>\n",
       "      <td>61912.600106</td>\n",
       "      <td>13283.476236</td>\n",
       "      <td>1.183337</td>\n",
       "      <td>68151.445516</td>\n",
       "      <td>14289.177313</td>\n",
       "      <td>1.180479</td>\n",
       "      <td>70790.828470</td>\n",
       "      <td>2.888432e+04</td>\n",
       "      <td>1.114434</td>\n",
       "      <td>72334.536115</td>\n",
       "      <td>20888.933729</td>\n",
       "      <td>0.410362</td>\n",
       "    </tr>\n",
       "    <tr>\n",
       "      <th>min</th>\n",
       "      <td>1.000000</td>\n",
       "      <td>1.000000</td>\n",
       "      <td>1.000000</td>\n",
       "      <td>21.000000</td>\n",
       "      <td>10000.000000</td>\n",
       "      <td>-2.000000</td>\n",
       "      <td>-73895.000000</td>\n",
       "      <td>0.000000</td>\n",
       "      <td>-2.000000</td>\n",
       "      <td>-46627.000000</td>\n",
       "      <td>0.000000</td>\n",
       "      <td>-2.000000</td>\n",
       "      <td>-46627.000000</td>\n",
       "      <td>0.000000</td>\n",
       "      <td>-2.000000</td>\n",
       "      <td>-25443.000000</td>\n",
       "      <td>0.000000</td>\n",
       "      <td>-2.000000</td>\n",
       "      <td>-67526.000000</td>\n",
       "      <td>0.000000e+00</td>\n",
       "      <td>-2.000000</td>\n",
       "      <td>-11545.000000</td>\n",
       "      <td>0.000000</td>\n",
       "      <td>0.000000</td>\n",
       "    </tr>\n",
       "    <tr>\n",
       "      <th>25%</th>\n",
       "      <td>1.000000</td>\n",
       "      <td>1.000000</td>\n",
       "      <td>1.000000</td>\n",
       "      <td>28.000000</td>\n",
       "      <td>50000.000000</td>\n",
       "      <td>-1.000000</td>\n",
       "      <td>1433.000000</td>\n",
       "      <td>175.250000</td>\n",
       "      <td>-1.000000</td>\n",
       "      <td>1974.500000</td>\n",
       "      <td>325.250000</td>\n",
       "      <td>-1.000000</td>\n",
       "      <td>2585.000000</td>\n",
       "      <td>313.750000</td>\n",
       "      <td>-1.000000</td>\n",
       "      <td>3311.750000</td>\n",
       "      <td>479.250000</td>\n",
       "      <td>-1.000000</td>\n",
       "      <td>3403.500000</td>\n",
       "      <td>9.975000e+02</td>\n",
       "      <td>-1.000000</td>\n",
       "      <td>3979.750000</td>\n",
       "      <td>1013.000000</td>\n",
       "      <td>0.000000</td>\n",
       "    </tr>\n",
       "    <tr>\n",
       "      <th>50%</th>\n",
       "      <td>2.000000</td>\n",
       "      <td>2.000000</td>\n",
       "      <td>2.000000</td>\n",
       "      <td>34.000000</td>\n",
       "      <td>140000.000000</td>\n",
       "      <td>0.000000</td>\n",
       "      <td>18511.500000</td>\n",
       "      <td>1626.500000</td>\n",
       "      <td>0.000000</td>\n",
       "      <td>18819.500000</td>\n",
       "      <td>1646.500000</td>\n",
       "      <td>0.000000</td>\n",
       "      <td>19895.000000</td>\n",
       "      <td>1600.000000</td>\n",
       "      <td>0.000000</td>\n",
       "      <td>21549.500000</td>\n",
       "      <td>1997.000000</td>\n",
       "      <td>0.000000</td>\n",
       "      <td>23169.000000</td>\n",
       "      <td>2.182500e+03</td>\n",
       "      <td>0.000000</td>\n",
       "      <td>24325.000000</td>\n",
       "      <td>2238.000000</td>\n",
       "      <td>0.000000</td>\n",
       "    </tr>\n",
       "    <tr>\n",
       "      <th>75%</th>\n",
       "      <td>2.000000</td>\n",
       "      <td>2.000000</td>\n",
       "      <td>2.000000</td>\n",
       "      <td>41.000000</td>\n",
       "      <td>230000.000000</td>\n",
       "      <td>0.000000</td>\n",
       "      <td>52297.000000</td>\n",
       "      <td>4081.750000</td>\n",
       "      <td>0.000000</td>\n",
       "      <td>53414.500000</td>\n",
       "      <td>4021.000000</td>\n",
       "      <td>0.000000</td>\n",
       "      <td>58638.500000</td>\n",
       "      <td>4000.250000</td>\n",
       "      <td>0.000000</td>\n",
       "      <td>63034.500000</td>\n",
       "      <td>4500.000000</td>\n",
       "      <td>0.000000</td>\n",
       "      <td>67836.250000</td>\n",
       "      <td>5.000000e+03</td>\n",
       "      <td>0.000000</td>\n",
       "      <td>69863.000000</td>\n",
       "      <td>5089.500000</td>\n",
       "      <td>0.000000</td>\n",
       "    </tr>\n",
       "    <tr>\n",
       "      <th>max</th>\n",
       "      <td>2.000000</td>\n",
       "      <td>4.000000</td>\n",
       "      <td>3.000000</td>\n",
       "      <td>69.000000</td>\n",
       "      <td>800000.000000</td>\n",
       "      <td>7.000000</td>\n",
       "      <td>436172.000000</td>\n",
       "      <td>403500.000000</td>\n",
       "      <td>7.000000</td>\n",
       "      <td>441981.000000</td>\n",
       "      <td>388071.000000</td>\n",
       "      <td>8.000000</td>\n",
       "      <td>488808.000000</td>\n",
       "      <td>202076.000000</td>\n",
       "      <td>7.000000</td>\n",
       "      <td>578971.000000</td>\n",
       "      <td>199209.000000</td>\n",
       "      <td>7.000000</td>\n",
       "      <td>512650.000000</td>\n",
       "      <td>1.227082e+06</td>\n",
       "      <td>8.000000</td>\n",
       "      <td>613860.000000</td>\n",
       "      <td>493358.000000</td>\n",
       "      <td>1.000000</td>\n",
       "    </tr>\n",
       "  </tbody>\n",
       "</table>\n",
       "</div>"
      ],
      "text/plain": [
       "               sex  education_level  marital_status          age  \\\n",
       "count  2964.000000      2964.000000     2964.000000  2964.000000   \n",
       "mean      1.607625         1.841768        1.564103    35.193657   \n",
       "std       0.488362         0.739144        0.521822     9.110949   \n",
       "min       1.000000         1.000000        1.000000    21.000000   \n",
       "25%       1.000000         1.000000        1.000000    28.000000   \n",
       "50%       2.000000         2.000000        2.000000    34.000000   \n",
       "75%       2.000000         2.000000        2.000000    41.000000   \n",
       "max       2.000000         4.000000        3.000000    69.000000   \n",
       "\n",
       "       limit_balance        pay_6     bill_amt_6      pay_amt_6        pay_5  \\\n",
       "count    2964.000000  2964.000000    2964.000000    2964.000000  2964.000000   \n",
       "mean   163356.950067    -0.254049   39786.491228    5384.517544    -0.224696   \n",
       "std    125049.701016     1.167061   57308.498646   17278.585006     1.158739   \n",
       "min     10000.000000    -2.000000  -73895.000000       0.000000    -2.000000   \n",
       "25%     50000.000000    -1.000000    1433.000000     175.250000    -1.000000   \n",
       "50%    140000.000000     0.000000   18511.500000    1626.500000     0.000000   \n",
       "75%    230000.000000     0.000000   52297.000000    4081.750000     0.000000   \n",
       "max    800000.000000     7.000000  436172.000000  403500.000000     7.000000   \n",
       "\n",
       "          bill_amt_5      pay_amt_5        pay_4     bill_amt_4  \\\n",
       "count    2964.000000    2964.000000  2964.000000    2964.000000   \n",
       "mean    40969.898448    4914.944332    -0.184548   44104.558367   \n",
       "std     58276.878626   16736.920951     1.178049   61912.600106   \n",
       "min    -46627.000000       0.000000    -2.000000  -46627.000000   \n",
       "25%      1974.500000     325.250000    -1.000000    2585.000000   \n",
       "50%     18819.500000    1646.500000     0.000000   19895.000000   \n",
       "75%     53414.500000    4021.000000     0.000000   58638.500000   \n",
       "max    441981.000000  388071.000000     8.000000  488808.000000   \n",
       "\n",
       "           pay_amt_4        pay_3     bill_amt_3      pay_amt_3        pay_2  \\\n",
       "count    2964.000000  2964.000000    2964.000000    2964.000000  2964.000000   \n",
       "mean     4562.914980    -0.141026   48256.032726    5152.234818    -0.121795   \n",
       "std     13283.476236     1.183337   68151.445516   14289.177313     1.180479   \n",
       "min         0.000000    -2.000000  -25443.000000       0.000000    -2.000000   \n",
       "25%       313.750000    -1.000000    3311.750000     479.250000    -1.000000   \n",
       "50%      1600.000000     0.000000   21549.500000    1997.000000     0.000000   \n",
       "75%      4000.250000     0.000000   63034.500000    4500.000000     0.000000   \n",
       "max    202076.000000     7.000000  578971.000000  199209.000000     7.000000   \n",
       "\n",
       "          bill_amt_2     pay_amt_2        pay_0     bill_amt_1      pay_amt_1  \\\n",
       "count    2964.000000  2.964000e+03  2964.000000    2964.000000    2964.000000   \n",
       "mean    50666.241228  6.274611e+03     0.004723   52135.889001    6351.044872   \n",
       "std     70790.828470  2.888432e+04     1.114434   72334.536115   20888.933729   \n",
       "min    -67526.000000  0.000000e+00    -2.000000  -11545.000000       0.000000   \n",
       "25%      3403.500000  9.975000e+02    -1.000000    3979.750000    1013.000000   \n",
       "50%     23169.000000  2.182500e+03     0.000000   24325.000000    2238.000000   \n",
       "75%     67836.250000  5.000000e+03     0.000000   69863.000000    5089.500000   \n",
       "max    512650.000000  1.227082e+06     8.000000  613860.000000  493358.000000   \n",
       "\n",
       "       default_payment_next_month  \n",
       "count                 2964.000000  \n",
       "mean                     0.214238  \n",
       "std                      0.410362  \n",
       "min                      0.000000  \n",
       "25%                      0.000000  \n",
       "50%                      0.000000  \n",
       "75%                      0.000000  \n",
       "max                      1.000000  "
      ]
     },
     "execution_count": 135,
     "metadata": {},
     "output_type": "execute_result"
    }
   ],
   "source": [
    "df1.describe()"
   ]
  },
  {
   "cell_type": "code",
   "execution_count": 136,
   "metadata": {},
   "outputs": [
    {
     "data": {
      "text/plain": [
       "2    1594\n",
       "1    1331\n",
       "3      39\n",
       "Name: marital_status, dtype: int64"
      ]
     },
     "execution_count": 136,
     "metadata": {},
     "output_type": "execute_result"
    }
   ],
   "source": [
    "df1.marital_status.value_counts()"
   ]
  },
  {
   "cell_type": "code",
   "execution_count": 137,
   "metadata": {},
   "outputs": [
    {
     "data": {
      "text/plain": [
       "2    1801\n",
       "1    1163\n",
       "Name: sex, dtype: int64"
      ]
     },
     "execution_count": 137,
     "metadata": {},
     "output_type": "execute_result"
    }
   ],
   "source": [
    "df1.sex.value_counts()"
   ]
  },
  {
   "cell_type": "code",
   "execution_count": 138,
   "metadata": {},
   "outputs": [
    {
     "data": {
      "text/plain": [
       "2    1400\n",
       "1    1038\n",
       "3     483\n",
       "4      43\n",
       "Name: education_level, dtype: int64"
      ]
     },
     "execution_count": 138,
     "metadata": {},
     "output_type": "execute_result"
    }
   ],
   "source": [
    "df1.education_level.value_counts()"
   ]
  },
  {
   "attachments": {},
   "cell_type": "markdown",
   "metadata": {},
   "source": [
    "Terlihat pada tabel diatas bahwa rata-rata umur pengguna kartu kredit adalah 34.8 tahun yang dimana umur tersebut merupakan umur yang ideal untuk ukuran orang yang berproduktif, tidak terlalu tua namun tidak terlalu muda.\n",
    "\n",
    "Bahwa terdapat 2965 total pengguna kartu kredit yang terdaftar dengan rata-rata limit balance sebesar 140.000 dengan maksimum limit balance sebesar 800.000.\n",
    "\n",
    "Bahwa total jenis kelamin wanita (1802) lebih banyak daripada laki-laki(1163).\n",
    "\n",
    "Mayoritas pengguna kartu kredit memiliki tingkatan akademik terakhir pada jenjang SMA(1400), lalu SD/SMP (1039), dan sisanya adalah Sarjana (483) dan lainnya (43).\n",
    "\n",
    "Tercatat 1594 pengguna adalah Belum Menikah, 1332 penggunanya adalah Sudah Menikah, dan 39 pengguna lainnya adalah tidak diketahui. \n",
    "\n",
    "Berdasarkan tabel diatas dengan 0 merepresentasikan bayar tepat waktu dan 1 adalah telat/gagal bayar, terdapat rata-rata 0.214 untuk default payment maka ada 21.4% pengguna kartu kredit yang akan telat/gagal bayar.\n"
   ]
  },
  {
   "cell_type": "code",
   "execution_count": 139,
   "metadata": {},
   "outputs": [
    {
     "data": {
      "image/png": "[encoded data removed]",
      "text/plain": [
       "<Figure size 640x480 with 1 Axes>"
      ]
     },
     "metadata": {},
     "output_type": "display_data"
    }
   ],
   "source": [
    "plt.boxplot([df1.loc[df1['default_payment_next_month'] == 0, 'limit_balance'], df1.loc[df1['default_payment_next_month'] == 1, 'limit_balance']],showfliers=False)\n",
    "plt.xticks([1, 2], ['No Default', 'Default'])\n",
    "plt.ylabel('Limit Balance')\n",
    "plt.title('Limit Balance by Default Payment Next Month')\n",
    "plt.show()"
   ]
  },
  {
   "attachments": {},
   "cell_type": "markdown",
   "metadata": {},
   "source": [
    "Pengguna kredit yang tidak bermasalah dan dapat membayar cicilan minimal tepat waktu akan mendapatkan jumlah limit balance yang lebih tinggi daripada pengguna kredit yang bermasalah."
   ]
  },
  {
   "cell_type": "code",
   "execution_count": 140,
   "metadata": {},
   "outputs": [
    {
     "data": {
      "image/png": "[encoded data removed]",
      "text/plain": [
       "<Figure size 640x480 with 1 Axes>"
      ]
     },
     "metadata": {},
     "output_type": "display_data"
    }
   ],
   "source": [
    "import matplotlib.cm as cmp\n",
    "# Define custom color map\n",
    "colors = cm.Set2(np.linspace(0, 1, 3))\n",
    "\n",
    "# Group and plot data\n",
    "status_counts = df1.groupby(['default_payment_next_month', 'marital_status']).size().unstack()\n",
    "status_counts.plot(kind='bar', stacked=True, color=colors)\n",
    "plt.xticks([0, 1], ['No Default', 'Default'], rotation=0)\n",
    "plt.xlabel('Default Payment Next Month')\n",
    "plt.ylabel('Count')\n",
    "plt.title('Marital Status by Default Payment Next Month')\n",
    "plt.legend(['Married', 'Single', 'Others'])\n",
    "plt.show()"
   ]
  },
  {
   "cell_type": "code",
   "execution_count": 147,
   "metadata": {},
   "outputs": [
    {
     "data": {
      "image/png": "[encoded data removed]",
      "text/plain": [
       "<Figure size 640x480 with 1 Axes>"
      ]
     },
     "metadata": {},
     "output_type": "display_data"
    }
   ],
   "source": [
    "# define the new labels\n",
    "new_labels = ['Married', 'Single', 'Others']\n",
    "\n",
    "# create the countplot\n",
    "sns.countplot(data=df1, x='marital_status', hue='default_payment_next_month')\n",
    "\n",
    "# set the axis labels and title\n",
    "plt.xlabel('Marital_Status')\n",
    "plt.ylabel('Total')\n",
    "plt.title('Marital_Status by Default Payment Next Month')\n",
    "\n",
    "# set the new x-axis labels\n",
    "plt.xticks(ticks=[0,1,2], labels=new_labels)\n",
    "\n",
    "# set the new legend labels\n",
    "plt.legend(title='Default Payment Next Month', labels=['Not Default', 'Default'])\n",
    "\n",
    "# show the plot\n",
    "plt.show()"
   ]
  },
  {
   "attachments": {},
   "cell_type": "markdown",
   "metadata": {},
   "source": [
    "Secara tingkat Marital Status untuk status 1 dan 2 memiliki rasio yang relatif sama atau rasio orang menikah atau tidak memiliki tingkat default yang relatif sama."
   ]
  },
  {
   "cell_type": "code",
   "execution_count": 150,
   "metadata": {},
   "outputs": [
    {
     "data": {
      "image/png": "[encoded data removed]",
      "text/plain": [
       "<Figure size 640x480 with 1 Axes>"
      ]
     },
     "metadata": {},
     "output_type": "display_data"
    }
   ],
   "source": [
    "# define the new labels\n",
    "new_labels = ['SD/SMP', 'S1/S2/S3', 'SMA', 'Others']\n",
    "\n",
    "# create the countplot\n",
    "sns.countplot(data=df1, x='education_level', hue='default_payment_next_month')\n",
    "\n",
    "# set the axis labels and title\n",
    "plt.xlabel('Education Level')\n",
    "plt.ylabel('Total')\n",
    "plt.title('Education Level by Default Payment Next Month')\n",
    "\n",
    "# set the new x-axis labels\n",
    "plt.xticks(ticks=[0,1,2,3], labels=new_labels)\n",
    "\n",
    "# set the new legend labels\n",
    "plt.legend(title='Default Payment Next Month', labels=['Not Default', 'Default'])\n",
    "\n",
    "# show the plot\n",
    "plt.show()"
   ]
  },
  {
   "cell_type": "code",
   "execution_count": null,
   "metadata": {},
   "outputs": [],
   "source": [
    "\n",
    "`1` adalah lulusan sekolah menengah kebawah (**SD/SMP**)\n",
    "\n",
    "`2` adalah lulusan sarjana (**Sarjana/Magister/Doktoral**)\n",
    "\n",
    "`3` adalah lulusan sekolah menengah atas (**SMA**)\n",
    "\n",
    "`4` adalah lulusan sekolah lainnya."
   ]
  },
  {
   "cell_type": "code",
   "execution_count": 142,
   "metadata": {},
   "outputs": [
    {
     "data": {
      "image/png": "[encoded data removed]",
      "text/plain": [
       "<Figure size 640x480 with 1 Axes>"
      ]
     },
     "metadata": {},
     "output_type": "display_data"
    }
   ],
   "source": [
    "default_counts = df1['default_payment_next_month'].value_counts()\n",
    "plt.pie(default_counts, labels=['No Default', 'Default'], autopct='%1.1f%%')\n",
    "plt.title('Proportion of Default Payment Next Month')\n",
    "plt.show()"
   ]
  },
  {
   "attachments": {},
   "cell_type": "markdown",
   "metadata": {},
   "source": [
    "Berdasarkan plot diatas bisa dilihat bahwa 21.4% pengguna kartu kredit tidak bisa membayar batas minimal cicilan kartu kredit pada bulan selanjutnya."
   ]
  },
  {
   "cell_type": "code",
   "execution_count": 143,
   "metadata": {},
   "outputs": [
    {
     "data": {
      "image/png": "[encoded data removed]",
      "text/plain": [
       "<Figure size 640x480 with 1 Axes>"
      ]
     },
     "metadata": {},
     "output_type": "display_data"
    }
   ],
   "source": [
    "sns.histplot(data=df1, x='age', hue='default_payment_next_month', stat='count', bins=20)\n",
    "plt.xlabel('Age')\n",
    "plt.ylabel('Count')\n",
    "plt.title('Distribution of Age by Default Payment Next Month')\n",
    "\n",
    "# set the new legend labels\n",
    "plt.legend(title='Default Payment Next Month', labels=['Default', 'Not Default'])\n",
    "\n",
    "plt.show()"
   ]
  },
  {
   "attachments": {},
   "cell_type": "markdown",
   "metadata": {},
   "source": [
    "Dapat dilihat bahwa persebaran pengguna kartu kredit berada di rentang 21 hingga 69 tahun dengan rata-rata berada di 35 tahun.\n",
    "\n",
    "Pada plot tersebut juga terlihat bahwa pada kisaran umur 25-30 adalah umur pengguna kartu kredit yang paling konsumtif dan paling aktif dalam bertransaksi menggunakan kartu kredit. \n",
    "\n",
    "Pada plot tersebut pula terlihat bahwa pada kisaran umur 25-40 tahun adalah umur pengguna kartu yang memiliki tingkat default terbesar dan berkemungkinan untuk default terbesar."
   ]
  },
  {
   "cell_type": "code",
   "execution_count": 144,
   "metadata": {},
   "outputs": [
    {
     "data": {
      "image/png": "[encoded data removed]",
      "text/plain": [
       "<Figure size 640x480 with 1 Axes>"
      ]
     },
     "metadata": {},
     "output_type": "display_data"
    }
   ],
   "source": [
    "# define the new labels\n",
    "new_labels = ['Male', 'Female']\n",
    "\n",
    "# create the countplot\n",
    "sns.countplot(data=df1, x='sex', hue='default_payment_next_month')\n",
    "\n",
    "# set the axis labels and title\n",
    "plt.xlabel('Sex')\n",
    "plt.ylabel('Total')\n",
    "plt.title('Total of Sex by Default Payment Next Month')\n",
    "\n",
    "# set the new x-axis labels\n",
    "plt.xticks(ticks=[0,1], labels=new_labels)\n",
    "\n",
    "# set the new legend labels\n",
    "plt.legend(title='Default Payment Next Month', labels=['Not Default', 'Default'])\n",
    "\n",
    "# show the plot\n",
    "plt.show()"
   ]
  },
  {
   "attachments": {},
   "cell_type": "markdown",
   "metadata": {},
   "source": [
    "Pada plot diatas menjelaskan bahwa jenis kelamin wanita lebih konsumtif daripada laki-laki."
   ]
  },
  {
   "cell_type": "code",
   "execution_count": 145,
   "metadata": {},
   "outputs": [
    {
     "data": {
      "image/png": "[encoded data removed]",
      "text/plain": [
       "<Figure size 2000x1000 with 6 Axes>"
      ]
     },
     "metadata": {},
     "output_type": "display_data"
    }
   ],
   "source": [
    "fig, axes = plt.subplots(2, 3, figsize=(20, 10))\n",
    "pay_cols = ['pay_6', 'pay_5', 'pay_4', 'pay_3', 'pay_2', 'pay_0']\n",
    "bill_cols = ['bill_amt_6', 'bill_amt_5', 'bill_amt_4', 'bill_amt_3', 'bill_amt_2', 'bill_amt_1']\n",
    "\n",
    "for i, pay_col in enumerate(pay_cols):\n",
    "    row = i // 3\n",
    "    col = i % 3\n",
    "    ax = axes[row][col]\n",
    "    bill_means = df1.groupby(pay_col)[bill_cols].mean()\n",
    "    bill_means.plot(ax=ax, kind='line', rot=0)\n",
    "    ax.set_xlabel('Payment Delay')\n",
    "    ax.set_ylabel('Mean Bill Amount')\n",
    "    ax.set_title(f'Mean Bill Amount by {pay_col}')\n",
    "\n",
    "plt.tight_layout()\n",
    "plt.show()"
   ]
  },
  {
   "attachments": {},
   "cell_type": "markdown",
   "metadata": {},
   "source": [
    "Plot diatas menjelaskan bahwa Total Tagihan pengguna kartu kredit pada kategori -2, dan -1 terlihat stabil dimana tidak melebihi batas 20000 dolar cenderung berkurang di semua bulan.\n",
    "Untuk kategori 0 cenderung stabil pada kisaran 70000 dolar. \n",
    "Untuk kategori 1 hingga 8 merupakan kategori pengguna kartu kredit yang sangat fluktuatif yaitu seseorang pengguna dapat sewaktu-waktu berpindah kategori sesuai dengan bagaimana mereka membayar tagihan minimum perbulannya agar tidak dinyatakan gagal bayar pada bulan tersebut.\n",
    "\n",
    "Dapat dilihat bahwa terjadi akumulasi dari jumlah pengguna kartu kredit di kategori 3 hingga kategori 7 dari bulan april (pay_6) hingga bulan september(pay_0) sebelum akhirnya turun drastis pada kategori 8.\n",
    "\n",
    "Penuruan drastis tersebut dikarenakan pengguna kartu kredit sudah dinyatakan oleh otoritas kredit bank sebagai Default dalam artian mereka adalah orang yang tidak bisa membayar cicilan minimum bulanan selama 6 bulan berturut-turut dan akun kartu tersebut ditutup secara otomatis dan akun pengguna dihapus oleh otoritas kredit bank dari sistem bank."
   ]
  },
  {
   "cell_type": "code",
   "execution_count": 146,
   "metadata": {},
   "outputs": [
    {
     "ename": "TypeError",
     "evalue": "cannot concatenate object of type '<class 'numpy.float64'>'; only Series and DataFrame objs are valid",
     "output_type": "error",
     "traceback": [
      "\u001b[1;31m---------------------------------------------------------------------------\u001b[0m",
      "\u001b[1;31mTypeError\u001b[0m                                 Traceback (most recent call last)",
      "Cell \u001b[1;32mIn[146], line 5\u001b[0m\n\u001b[0;32m      2\u001b[0m mean_pay_amt \u001b[39m=\u001b[39m df[pay_amt_cols]\u001b[39m.\u001b[39mmean()\n\u001b[0;32m      4\u001b[0m \u001b[39m# Step 2: Concatenate the resulting means into a single dataframe\u001b[39;00m\n\u001b[1;32m----> 5\u001b[0m mean_pay_amt_df \u001b[39m=\u001b[39m pd\u001b[39m.\u001b[39;49mconcat([mean_pay_amt], axis\u001b[39m=\u001b[39;49m\u001b[39m1\u001b[39;49m)\n\u001b[0;32m      7\u001b[0m \u001b[39m# Step 3: Add a new column to the concatenated dataframe containing the corresponding pay_col\u001b[39;00m\n\u001b[0;32m      8\u001b[0m mean_pay_amt_df[\u001b[39m'\u001b[39m\u001b[39mpay_col\u001b[39m\u001b[39m'\u001b[39m] \u001b[39m=\u001b[39m pay_cols\n",
      "File \u001b[1;32md:\\Anaconda\\lib\\site-packages\\pandas\\util\\_decorators.py:331\u001b[0m, in \u001b[0;36mdeprecate_nonkeyword_arguments.<locals>.decorate.<locals>.wrapper\u001b[1;34m(*args, **kwargs)\u001b[0m\n\u001b[0;32m    325\u001b[0m \u001b[39mif\u001b[39;00m \u001b[39mlen\u001b[39m(args) \u001b[39m>\u001b[39m num_allow_args:\n\u001b[0;32m    326\u001b[0m     warnings\u001b[39m.\u001b[39mwarn(\n\u001b[0;32m    327\u001b[0m         msg\u001b[39m.\u001b[39mformat(arguments\u001b[39m=\u001b[39m_format_argument_list(allow_args)),\n\u001b[0;32m    328\u001b[0m         \u001b[39mFutureWarning\u001b[39;00m,\n\u001b[0;32m    329\u001b[0m         stacklevel\u001b[39m=\u001b[39mfind_stack_level(),\n\u001b[0;32m    330\u001b[0m     )\n\u001b[1;32m--> 331\u001b[0m \u001b[39mreturn\u001b[39;00m func(\u001b[39m*\u001b[39margs, \u001b[39m*\u001b[39m\u001b[39m*\u001b[39mkwargs)\n",
      "File \u001b[1;32md:\\Anaconda\\lib\\site-packages\\pandas\\core\\reshape\\concat.py:368\u001b[0m, in \u001b[0;36mconcat\u001b[1;34m(objs, axis, join, ignore_index, keys, levels, names, verify_integrity, sort, copy)\u001b[0m\n\u001b[0;32m    146\u001b[0m \u001b[39m@deprecate_nonkeyword_arguments\u001b[39m(version\u001b[39m=\u001b[39m\u001b[39mNone\u001b[39;00m, allowed_args\u001b[39m=\u001b[39m[\u001b[39m\"\u001b[39m\u001b[39mobjs\u001b[39m\u001b[39m\"\u001b[39m])\n\u001b[0;32m    147\u001b[0m \u001b[39mdef\u001b[39;00m \u001b[39mconcat\u001b[39m(\n\u001b[0;32m    148\u001b[0m     objs: Iterable[NDFrame] \u001b[39m|\u001b[39m Mapping[HashableT, NDFrame],\n\u001b[1;32m   (...)\u001b[0m\n\u001b[0;32m    157\u001b[0m     copy: \u001b[39mbool\u001b[39m \u001b[39m=\u001b[39m \u001b[39mTrue\u001b[39;00m,\n\u001b[0;32m    158\u001b[0m ) \u001b[39m-\u001b[39m\u001b[39m>\u001b[39m DataFrame \u001b[39m|\u001b[39m Series:\n\u001b[0;32m    159\u001b[0m \u001b[39m    \u001b[39m\u001b[39m\"\"\"\u001b[39;00m\n\u001b[0;32m    160\u001b[0m \u001b[39m    Concatenate pandas objects along a particular axis.\u001b[39;00m\n\u001b[0;32m    161\u001b[0m \n\u001b[1;32m   (...)\u001b[0m\n\u001b[0;32m    366\u001b[0m \u001b[39m    1   3   4\u001b[39;00m\n\u001b[0;32m    367\u001b[0m \u001b[39m    \"\"\"\u001b[39;00m\n\u001b[1;32m--> 368\u001b[0m     op \u001b[39m=\u001b[39m _Concatenator(\n\u001b[0;32m    369\u001b[0m         objs,\n\u001b[0;32m    370\u001b[0m         axis\u001b[39m=\u001b[39;49maxis,\n\u001b[0;32m    371\u001b[0m         ignore_index\u001b[39m=\u001b[39;49mignore_index,\n\u001b[0;32m    372\u001b[0m         join\u001b[39m=\u001b[39;49mjoin,\n\u001b[0;32m    373\u001b[0m         keys\u001b[39m=\u001b[39;49mkeys,\n\u001b[0;32m    374\u001b[0m         levels\u001b[39m=\u001b[39;49mlevels,\n\u001b[0;32m    375\u001b[0m         names\u001b[39m=\u001b[39;49mnames,\n\u001b[0;32m    376\u001b[0m         verify_integrity\u001b[39m=\u001b[39;49mverify_integrity,\n\u001b[0;32m    377\u001b[0m         copy\u001b[39m=\u001b[39;49mcopy,\n\u001b[0;32m    378\u001b[0m         sort\u001b[39m=\u001b[39;49msort,\n\u001b[0;32m    379\u001b[0m     )\n\u001b[0;32m    381\u001b[0m     \u001b[39mreturn\u001b[39;00m op\u001b[39m.\u001b[39mget_result()\n",
      "File \u001b[1;32md:\\Anaconda\\lib\\site-packages\\pandas\\core\\reshape\\concat.py:458\u001b[0m, in \u001b[0;36m_Concatenator.__init__\u001b[1;34m(self, objs, axis, join, keys, levels, names, ignore_index, verify_integrity, copy, sort)\u001b[0m\n\u001b[0;32m    453\u001b[0m     \u001b[39mif\u001b[39;00m \u001b[39mnot\u001b[39;00m \u001b[39misinstance\u001b[39m(obj, (ABCSeries, ABCDataFrame)):\n\u001b[0;32m    454\u001b[0m         msg \u001b[39m=\u001b[39m (\n\u001b[0;32m    455\u001b[0m             \u001b[39mf\u001b[39m\u001b[39m\"\u001b[39m\u001b[39mcannot concatenate object of type \u001b[39m\u001b[39m'\u001b[39m\u001b[39m{\u001b[39;00m\u001b[39mtype\u001b[39m(obj)\u001b[39m}\u001b[39;00m\u001b[39m'\u001b[39m\u001b[39m; \u001b[39m\u001b[39m\"\u001b[39m\n\u001b[0;32m    456\u001b[0m             \u001b[39m\"\u001b[39m\u001b[39monly Series and DataFrame objs are valid\u001b[39m\u001b[39m\"\u001b[39m\n\u001b[0;32m    457\u001b[0m         )\n\u001b[1;32m--> 458\u001b[0m         \u001b[39mraise\u001b[39;00m \u001b[39mTypeError\u001b[39;00m(msg)\n\u001b[0;32m    460\u001b[0m     ndims\u001b[39m.\u001b[39madd(obj\u001b[39m.\u001b[39mndim)\n\u001b[0;32m    462\u001b[0m \u001b[39m# get the sample\u001b[39;00m\n\u001b[0;32m    463\u001b[0m \u001b[39m# want the highest ndim that we have, and must be non-empty\u001b[39;00m\n\u001b[0;32m    464\u001b[0m \u001b[39m# unless all objs are empty\u001b[39;00m\n",
      "\u001b[1;31mTypeError\u001b[0m: cannot concatenate object of type '<class 'numpy.float64'>'; only Series and DataFrame objs are valid"
     ]
    }
   ],
   "source": [
    "# Step 1: Compute the mean of each bill_amt_col\n",
    "mean_pay_amt = df[pay_amt_cols].mean()\n",
    "\n",
    "# Step 2: Concatenate the resulting means into a single dataframe\n",
    "mean_pay_amt_df = pd.concat([mean_pay_amt], axis=1)\n",
    "\n",
    "# Step 3: Add a new column to the concatenated dataframe containing the corresponding pay_col\n",
    "mean_pay_amt_df['pay_col'] = pay_cols\n",
    "\n",
    "# Step 4: Melt the dataframe to a long format\n",
    "melted_df = mean_pay_amt_df.melt(id_vars=['pay_col'], value_name='mean_pay_amt', var_name='pay_amt_cols')\n",
    "\n",
    "# Step 5: Plot the resulting melted dataframe using seaborn's lineplot\n",
    "ax = sns.lineplot(x='pay_col', y='mean_pay_amt', hue='pay_amt_cols', data=melted_df)\n",
    "plt.title('Mean Bill Amount by Payment Delay')\n",
    "plt.xlabel('Payment Delay')\n",
    "plt.ylabel('Mean Pay Amount')\n",
    "ax.set_xticklabels(['April', 'Mei', 'June', 'July', 'August', 'September'])\n",
    "ax.legend(['Average'])\n",
    "plt.show()"
   ]
  },
  {
   "cell_type": "code",
   "execution_count": null,
   "metadata": {},
   "outputs": [],
   "source": [
    "# Step 1: Compute the mean of each bill_amt_col\n",
    "mean_pay_amt = df[pay_amt_cols].mean()\n",
    "\n",
    "# Step 2: Concatenate the resulting means into a single dataframe\n",
    "mean_pay_amt_df = pd.concat([mean_pay_amt], axis=1)\n",
    "\n",
    "# Step 3: Add a new column to the concatenated dataframe containing the corresponding pay_col\n",
    "mean_pay_amt_df['pay_col'] = pay_cols\n",
    "\n",
    "# Step 4: Melt the dataframe to a long format\n",
    "melted_df = mean_pay_amt_df.melt(id_vars=['pay_col'], value_name='mean_pay_amt', var_name='pay_amt_cols')\n",
    "\n",
    "# Step 5: Plot the resulting melted dataframe using seaborn's lineplot\n",
    "ax = sns.lineplot(x='pay_col', y='mean_pay_amt', hue='pay_amt_cols', data=melted_df)\n",
    "plt.title('Mean Pay Amount by Payment Delay')\n",
    "plt.xlabel('Payment Delay')\n",
    "plt.ylabel('Mean Pay Amount')\n",
    "ax.set_xticklabels(['April', 'Mei', 'June', 'July', 'August', 'September'])\n",
    "ax.legend(['Average'])\n",
    "plt.show()"
   ]
  },
  {
   "cell_type": "code",
   "execution_count": null,
   "metadata": {},
   "outputs": [],
   "source": [
    "fig, axes = plt.subplots(2, 3, figsize=(20, 10))\n",
    "pay_cols = ['pay_6', 'pay_5', 'pay_4', 'pay_3', 'pay_2', 'pay_0']\n",
    "pay_cols_labels = ['April', 'Mei', 'June', 'July', 'August', 'September']\n",
    "pay_amt_cols = ['pay_amt_6', 'pay_amt_5', 'pay_amt_4', 'pay_amt_3', 'pay_amt_2', 'pay_amt_1']\n",
    "\n",
    "for i, pay_col in enumerate(pay_cols):\n",
    "    row = i // 3\n",
    "    col = i % 3\n",
    "    ax = axes[row][col]\n",
    "    pay_amt_means = df1.groupby(pay_col)[pay_amt_cols].mean()\n",
    "    pay_amt_means.plot(ax=ax, kind='line', rot=0)\n",
    "    ax.set_xlabel('Payment Delay')\n",
    "    ax.set_ylabel('Mean Pay Amount')\n",
    "    ax.set_title(f'Mean Pay Amount by {pay_cols_labels[i]}')\n",
    "    mean_pay_amt = pay_amt_means.mean().mean()  # calculate the mean of the mean pay amount\n",
    "    ax.axhline(mean_pay_amt, linestyle='--', color='red')  # plot the average line\n",
    "\n",
    "plt.tight_layout()\n",
    "plt.show()"
   ]
  },
  {
   "cell_type": "code",
   "execution_count": null,
   "metadata": {},
   "outputs": [],
   "source": [
    "fig, axes = plt.subplots(2, 3, figsize=(20, 10))\n",
    "pay_cols = ['pay_6', 'pay_5', 'pay_4', 'pay_3', 'pay_2', 'pay_0']\n",
    "pay_cols_labels = ['April', 'Mei', 'June', 'July', 'August', 'September']\n",
    "bill_cols = ['bill_amt_6', 'bill_amt_5', 'bill_amt_4', 'bill_amt_3', 'bill_amt_2', 'bill_amt_1']\n",
    "\n",
    "for i, (pay_col, bill_col) in enumerate(zip(pay_cols, bill_cols)):\n",
    "    row = i // 3\n",
    "    col = i % 3\n",
    "    ax = axes[row][col]\n",
    "    pay_bill_means = df.groupby(pay_col)[bill_col].mean()\n",
    "    pay_bill_means.plot(ax=ax, kind='line', rot=0)\n",
    "    ax.set_xlabel('Payment Delay')\n",
    "    ax.set_ylabel('Mean Bill Amount')\n",
    "    ax.set_title(f'{bill_col} by {pay_cols_labels[i]}')\n",
    "    mean_pay_bill = pay_bill_means.mean()\n",
    "    ax.axhline(mean_pay_bill, linestyle='--', color='red')\n",
    "    \n",
    "plt.tight_layout()\n",
    "plt.show()"
   ]
  },
  {
   "cell_type": "code",
   "execution_count": null,
   "metadata": {},
   "outputs": [],
   "source": [
    "fig, axes = plt.subplots(2, 3, figsize=(20, 10))\n",
    "pay_cols = ['pay_6', 'pay_5', 'pay_4', 'pay_3', 'pay_2', 'pay_0']\n",
    "pay_cols_labels = ['April', 'Mei', 'June', 'July', 'August', 'September']\n",
    "pay_amt_cols = ['pay_amt_6', 'pay_amt_5', 'pay_amt_4', 'pay_amt_3', 'pay_amt_2', 'pay_amt_1']\n",
    "\n",
    "for i, (pay_col, pay_amt_cols) in enumerate(zip(pay_cols, pay_amt_cols)):\n",
    "    row = i // 3\n",
    "    col = i % 3\n",
    "    ax = axes[row][col]\n",
    "    pay_bill_means = df.groupby(pay_col)[pay_amt_cols].mean()\n",
    "    pay_bill_means.plot(ax=ax, kind='line', rot=0)\n",
    "    ax.set_xlabel('Payment Delay')\n",
    "    ax.set_ylabel('Mean Bill Amount')\n",
    "    ax.set_title(f'{pay_amt_cols} by {pay_cols_labels[i]}')\n",
    "    mean_pay_bill = pay_bill_means.mean()\n",
    "    ax.axhline(mean_pay_bill, linestyle='--', color='red')\n",
    "\n",
    "plt.tight_layout()\n",
    "plt.show()"
   ]
  },
  {
   "attachments": {},
   "cell_type": "markdown",
   "metadata": {},
   "source": [
    "Default juga dapat terjadi pada hutang tanpa jaminan, seperti tagihan medis dan saldo kartu kredit. Sementara hutang tanpa jaminan tidak didukung oleh aset, pemberi pinjaman masih memiliki tuntutan hukum jika terjadi Default. Perusahaan kartu kredit akan menunggu beberapa bulan sebelum menyatakan default ke peminjam.\n",
    "\n",
    "Setelah enam bulan atau lebih tanpa pembayaran atas saldo terutang, utang akan ditagih, artinya pemberi pinjaman akan menghapusnya sebagai kerugian dan menutup rekening. Kreditur kemudian dapat menjual hutang yang telah dibebankan ke agen penagihan, yang kemudian akan berusaha untuk menagih dari peminjam.\n",
    "\n",
    "Ketika default melibatkan hutang tanpa jaminan, agen penagihan yang membeli hutang memiliki hak gadai, atau penilaian, ditempatkan terhadap aset peminjam. Gugatan hak gadai adalah putusan pengadilan yang memberikan kreditur hak untuk menguasai properti debitur jika debitur gagal memenuhi kewajiban kontraktual."
   ]
  },
  {
   "cell_type": "code",
   "execution_count": null,
   "metadata": {},
   "outputs": [],
   "source": [
    "fig, axes = plt.subplots(2, 3, figsize=(20, 10))\n",
    "df1.groupby('pay_6')['limit_balance'].mean().plot(ax=axes[0,0], kind='bar', rot=0, label='April')\n",
    "df1.groupby('pay_5')['limit_balance'].mean().plot(ax=axes[0,1], kind='bar', rot=0, label='Mei')\n",
    "df1.groupby('pay_4')['limit_balance'].mean().plot(ax=axes[0,2], kind='bar', rot=0, label='June')\n",
    "df1.groupby('pay_3')['limit_balance'].mean().plot(ax=axes[1,0], kind='bar', rot=0, label='July')\n",
    "df1.groupby('pay_2')['limit_balance'].mean().plot(ax=axes[1,1], kind='bar', rot=0, label='August')\n",
    "df1.groupby('pay_0')['limit_balance'].mean().plot(ax=axes[1,2], kind='bar', rot=0, label='September')\n",
    "for ax in axes.flatten():\n",
    "    ax.set_xlabel('Payment Delay')\n",
    "    ax.set_ylabel('Mean Limit Balance')\n",
    "    ax.legend()\n",
    "plt.show()"
   ]
  },
  {
   "attachments": {},
   "cell_type": "markdown",
   "metadata": {},
   "source": [
    "Terlihat pada plot diatas bahwa limit balance untuk kategori 0 hingga -2 cenderung stabil dan tetap.\n",
    "\n",
    "Untuk kategori 1 hingga 8 terlihat sangat fluktuatif bahkan terdapat beberapa kategori yang meningkat drastis yang kemungkinan besar karena akumulasi dari perpindahan kategorikal pengguna kartu kredit yang disebabkan oleh pengguna kartu kredit gagal membayar tagihan minimum yang ditetapkan oleh kredit bank pada bulan tersebut dan bulan-bulan sebelumnya."
   ]
  },
  {
   "cell_type": "code",
   "execution_count": null,
   "metadata": {},
   "outputs": [],
   "source": [
    "corr = df1[['age','marital_status','education_level','sex','limit_balance', 'pay_0', 'bill_amt_1', 'default_payment_next_month']].corr()\n",
    "sns.heatmap(corr, cmap='coolwarm', annot=True)\n",
    "plt.title('Correlation Matrix of Selected Variables')\n",
    "plt.show()"
   ]
  },
  {
   "attachments": {},
   "cell_type": "markdown",
   "metadata": {},
   "source": [
    "Terlihat bahwa variabel pay_0 adalah variabel yang paling berpengaruh terhadap value default_payment_next_year."
   ]
  },
  {
   "cell_type": "code",
   "execution_count": null,
   "metadata": {},
   "outputs": [],
   "source": [
    "# create a list of features to calculate VIF for\n",
    "features = ['sex', 'education_level', 'marital_status', 'age', 'limit_balance', 'pay_6', 'bill_amt_6', 'pay_amt_6', 'pay_5', 'bill_amt_5', 'pay_amt_5', 'pay_4', 'bill_amt_4', 'pay_amt_4', 'pay_3', 'bill_amt_3', 'pay_amt_3', 'pay_2', 'bill_amt_2', 'pay_amt_2', 'pay_0', 'bill_amt_1', 'pay_amt_1','default_payment_next_month']\n",
    "# calculate VIF for each feature\n",
    "vif = [variance_inflation_factor(df1[features].values, i) for i in range(len(features))]\n",
    "# create a dataframe to store the VIF values\n",
    "vif_df = pd.DataFrame({'Feature': features, 'VIF': vif})\n",
    "# display the VIF dataframe sorted by VIF values in descending order\n",
    "print(vif_df.sort_values(by='VIF', ascending=False))\n"
   ]
  },
  {
   "attachments": {},
   "cell_type": "markdown",
   "metadata": {},
   "source": [
    "Berdasarkan tingkat VIF diatas, terlihat bahwa bill_amt memiliki tingkat hubungan yang tinggi antara variabel yang lain."
   ]
  },
  {
   "attachments": {},
   "cell_type": "markdown",
   "metadata": {},
   "source": [
    "# Feature Engineering"
   ]
  },
  {
   "attachments": {},
   "cell_type": "markdown",
   "metadata": {},
   "source": [
    "Pada Feature Engineering ini hal yang harus dilakukan adalah Test and Load dengan Train dan Test antara X dan y."
   ]
  },
  {
   "cell_type": "code",
   "execution_count": 151,
   "metadata": {},
   "outputs": [
    {
     "name": "stdout",
     "output_type": "stream",
     "text": [
      "Original set  --->  (2964, 23) (2964,) \n",
      "Training set  --->  (2371, 23) (2371,) \n",
      "Testing set   --->  (593, 23)  (593,)\n"
     ]
    }
   ],
   "source": [
    "#pisahkan antara fitur dan target\n",
    "X = df.drop(['default_payment_next_month'],axis=1) #Feature\n",
    "y = df['default_payment_next_month'] #Target\n",
    "X_train, X_test, y_train, y_test = train_test_split(X, y, test_size=0.2, random_state=42, stratify=y) #Split antara X train, X test, y train, y test dengan train:test rasio sebesar 80:20\n",
    "print('Original set  ---> ',X.shape,y.shape,'\\nTraining set  ---> ',X_train.shape,y_train.shape,'\\nTesting set   ---> ', X_test.shape,'', y_test.shape)"
   ]
  },
  {
   "cell_type": "code",
   "execution_count": 152,
   "metadata": {},
   "outputs": [
    {
     "name": "stdout",
     "output_type": "stream",
     "text": [
      "limit_balance skew: 1.015154459834294 \n",
      "sex: -0.4236162756929647 \n",
      "marital_status: 0.029484613345510093 \n",
      "education_level: 0.49559872610730066 \n",
      "age: 0.7797800753654462\n"
     ]
    }
   ],
   "source": [
    "print('limit_balance skew:',X_train['limit_balance'].skew(),'\\nsex:',X_train['sex'].skew(),'\\nmarital_status:',X_train['marital_status'].skew(),'\\neducation_level:',X_train['education_level'].skew(),'\\nage:',X_train['age'].skew())"
   ]
  },
  {
   "cell_type": "code",
   "execution_count": 153,
   "metadata": {},
   "outputs": [],
   "source": [
    "X_train1 = X_train.copy()"
   ]
  },
  {
   "cell_type": "code",
   "execution_count": 154,
   "metadata": {},
   "outputs": [
    {
     "data": {
      "text/plain": [
       "2371"
      ]
     },
     "execution_count": 154,
     "metadata": {},
     "output_type": "execute_result"
    }
   ],
   "source": [
    "# get the skewed features\n",
    "skewed_feats = X_train1.skew().sort_values(ascending=False)\n",
    "\n",
    "# select features with skewness > 1\n",
    "skewed_feats = skewed_feats[skewed_feats > 1].index\n",
    "\n",
    "# apply log transformation to the selected features\n",
    "for feat in skewed_feats:\n",
    "    X_train1[feat] = np.log1p(X_train1[feat])\n",
    "\n",
    "X_train1[feat].count()"
   ]
  },
  {
   "cell_type": "code",
   "execution_count": 155,
   "metadata": {},
   "outputs": [
    {
     "name": "stdout",
     "output_type": "stream",
     "text": [
      "<class 'pandas.core.frame.DataFrame'>\n",
      "Int64Index: 2371 entries, 489 to 357\n",
      "Data columns (total 23 columns):\n",
      " #   Column           Non-Null Count  Dtype  \n",
      "---  ------           --------------  -----  \n",
      " 0   limit_balance    2371 non-null   float64\n",
      " 1   sex              2371 non-null   int64  \n",
      " 2   education_level  2371 non-null   int64  \n",
      " 3   marital_status   2371 non-null   int64  \n",
      " 4   age              2371 non-null   float64\n",
      " 5   pay_0            2371 non-null   float64\n",
      " 6   pay_2            2371 non-null   float64\n",
      " 7   pay_3            2371 non-null   float64\n",
      " 8   pay_4            2371 non-null   float64\n",
      " 9   pay_5            2371 non-null   float64\n",
      " 10  pay_6            2371 non-null   float64\n",
      " 11  bill_amt_1       2371 non-null   float64\n",
      " 12  bill_amt_2       2371 non-null   float64\n",
      " 13  bill_amt_3       2371 non-null   float64\n",
      " 14  bill_amt_4       2371 non-null   float64\n",
      " 15  bill_amt_5       2371 non-null   float64\n",
      " 16  bill_amt_6       2371 non-null   float64\n",
      " 17  pay_amt_1        2371 non-null   float64\n",
      " 18  pay_amt_2        2371 non-null   float64\n",
      " 19  pay_amt_3        2371 non-null   float64\n",
      " 20  pay_amt_4        2371 non-null   float64\n",
      " 21  pay_amt_5        2371 non-null   float64\n",
      " 22  pay_amt_6        2371 non-null   float64\n",
      "dtypes: float64(20), int64(3)\n",
      "memory usage: 444.6 KB\n"
     ]
    }
   ],
   "source": [
    "X_train.info()"
   ]
  },
  {
   "attachments": {},
   "cell_type": "markdown",
   "metadata": {},
   "source": [
    "## Feature Selection"
   ]
  },
  {
   "attachments": {},
   "cell_type": "markdown",
   "metadata": {},
   "source": [
    "Dalam feature selection ini kita memilih seluruh variabel karena seluruh variabel memiliki keterhubungan antar variabel. "
   ]
  },
  {
   "cell_type": "code",
   "execution_count": 156,
   "metadata": {},
   "outputs": [],
   "source": [
    "# split into numerical and categorical column\n",
    "num_cols = ['limit_balance','age','bill_amt_6','bill_amt_5','bill_amt_4','bill_amt_3','bill_amt_2','bill_amt_1','pay_amt_6','pay_amt_5','pay_amt_4','pay_amt_3','pay_amt_2','pay_amt_1']\n",
    "cat_cols = ['sex','education_level','marital_status','pay_6','pay_5','pay_4','pay_3','pay_2','pay_0']"
   ]
  },
  {
   "attachments": {},
   "cell_type": "markdown",
   "metadata": {},
   "source": [
    "### Feature Selection using PCA"
   ]
  },
  {
   "attachments": {},
   "cell_type": "markdown",
   "metadata": {},
   "source": [
    "PCA digunakan untuk mereduksi tingkat dimensionality data tersebut sehingga tidak semua variabel digunakan pada analisis ini."
   ]
  },
  {
   "cell_type": "code",
   "execution_count": 157,
   "metadata": {},
   "outputs": [
    {
     "name": "stdout",
     "output_type": "stream",
     "text": [
      "Explained Variance Ratio: [0.41668124 0.12218005 0.08387026 0.07107913 0.06651093 0.06285213]\n"
     ]
    }
   ],
   "source": [
    "# Standardize numerical columns\n",
    "scaler = StandardScaler()\n",
    "X_train_num = scaler.fit_transform(X_train[num_cols])\n",
    "\n",
    "# Apply PCA to numerical columns\n",
    "pca = PCA(n_components=6)\n",
    "X_train_num_pca = pca.fit_transform(X_train_num)\n",
    "\n",
    "# Print the explained variance ratio of each component\n",
    "print(\"Explained Variance Ratio:\", pca.explained_variance_ratio_)"
   ]
  },
  {
   "attachments": {},
   "cell_type": "markdown",
   "metadata": {},
   "source": [
    "Didapatkan bahwa dengan menggunakan 6 komponen PCA mereduksi dimensionality yang dimana hanya menggunakan 81% dari seluruh data train secara efektif."
   ]
  },
  {
   "cell_type": "code",
   "execution_count": null,
   "metadata": {},
   "outputs": [],
   "source": [
    "# Standardize numerical columns of test data\n",
    "X_test_num = scaler.transform(X_test[num_cols])\n",
    "\n",
    "# Apply PCA to numerical columns of test data\n",
    "X_test_num_pca = pca.transform(X_test_num)\n"
   ]
  },
  {
   "cell_type": "code",
   "execution_count": null,
   "metadata": {},
   "outputs": [],
   "source": [
    "# Concatenate numerical PCA features with categorical features\n",
    "X_train_pca = np.concatenate((X_train_num_pca, X_train[cat_cols]), axis=1)\n",
    "# Concatenate numerical PCA features with categorical features of test data\n",
    "X_test_pca = np.concatenate((X_test_num_pca, X_test[cat_cols]), axis=1)"
   ]
  },
  {
   "attachments": {},
   "cell_type": "markdown",
   "metadata": {},
   "source": [
    "# Model Definition"
   ]
  },
  {
   "attachments": {},
   "cell_type": "markdown",
   "metadata": {},
   "source": [
    "Di dalam pemodelan ini menggunakan 7 jenis pemodelan yaitu \n",
    "\n",
    "- `Logistik Regresi`\n",
    "\n",
    "- `Decission Tree Classifier`\n",
    "\n",
    "- `Support Vector Machine`\n",
    "\n",
    "- `Random Forest Classifier`\n",
    "\n",
    "- `Gaussian Naive Bayes`\n",
    "\n",
    "- `KNeighbors Classifier`\n",
    "\n",
    "- `Adaptive Boost Classifier`"
   ]
  },
  {
   "cell_type": "code",
   "execution_count": null,
   "metadata": {},
   "outputs": [],
   "source": [
    "models = [LogisticRegression(random_state=42), DecisionTreeClassifier(random_state=42), SVC(random_state=42), RandomForestClassifier(random_state=42),\n",
    "          GaussianNB(), KNeighborsClassifier(), AdaBoostClassifier(random_state=42)]"
   ]
  },
  {
   "attachments": {},
   "cell_type": "markdown",
   "metadata": {},
   "source": [
    "# Model Training"
   ]
  },
  {
   "attachments": {},
   "cell_type": "markdown",
   "metadata": {},
   "source": [
    "Pada bagian model training ini langsung menggunakan metode pipeline untuk mempermudah model trainingnya.\n",
    "\n",
    "Pada bagian pipeline terdapat:\n",
    "\n",
    "- `cat_transformer` yang berisikan variabel kategori yang dilakukan feature engineering seperti ordinal encoding.\n",
    "\n",
    "- `num_transformer` yang berisikan variabel numerik yang dilakukan feature engineering seperti standard scaler.\n",
    "\n",
    "- `preprocessor` yang melakukan kolom transformer untuk `cat_transformer` dan `num_transformer`.\n",
    "\n",
    "- `pipeline` yang berupa preprocessor dan model klasifikasi.\n",
    "\n",
    "- `models` merupakan semua jenis model yang akan digunakan.\n",
    "\n",
    "Pada analisis ini akan difokuskan untuk mencari nilai dari Recall kategori 1 atau False Negative dari Variabel Target.\n",
    "\n",
    "Output dari pipeline ini adalah pipeline dan recall score untuk data test dan data train."
   ]
  },
  {
   "cell_type": "code",
   "execution_count": null,
   "metadata": {},
   "outputs": [],
   "source": [
    "# define the preprocessing steps for categorical and numerical columns\n",
    "cat_transformer = Pipeline(steps=[\n",
    "    ('ordinal', OrdinalEncoder(categories=[[1, 2], [1, 2, 3, 4], [1, 2, 3], [-2, -1, 0, 2, 3, 4, 6, 7], [-2, -1, 0, 2, 3, 4, 5, 6, 7], [-2, -1, 0, 2, 3, 4, 5, 6, 7, 8], [-2, -1, 0, 2, 3, 4, 5, 6, 7], [-2, -1, 0, 1, 2, 3, 4, 5, 6, 7], [-2, -1, 0, 1, 2, 3, 4, 5, 6, 7, 8]]))\n",
    "])\n",
    "\n",
    "num_transformer = Pipeline(steps=[\n",
    "    ('scaler', StandardScaler()), \n",
    "    ('pca',PCA(n_components=6))\n",
    "])\n",
    "\n",
    "# create the column transformer to apply the preprocessing steps to the data\n",
    "preprocessor = ColumnTransformer(transformers=[\n",
    "    ('cat', cat_transformer, cat_cols),\n",
    "    ('num', num_transformer, num_cols)\n",
    "])\n",
    "\n",
    "# create the pipeline to apply the logistic regression, decision tree classifier,\n",
    "# support vector machine, random forest, naive bayes, knn, and adaboost.\n",
    "pipeline = imbPipeline(steps=[\n",
    "    ('preprocessor', preprocessor),\n",
    "    ('sampling', SMOTE(random_state=42)),\n",
    "    ('classifier', None)\n",
    "])\n",
    "\n",
    "# define the models to be applied in the pipeline\n",
    "models = [LogisticRegression(random_state=42), DecisionTreeClassifier(random_state=42), SVC(random_state=42), RandomForestClassifier(random_state=42),\n",
    "          GaussianNB(), KNeighborsClassifier(), AdaBoostClassifier(random_state=42)]\n",
    "\n",
    "# prepare the cross-validation procedure\n",
    "kfolds = KFold(n_splits=10, random_state=42, shuffle=True)\n",
    "\n",
    "# train and evaluate each model using cross-validation\n",
    "from sklearn.model_selection import cross_val_score\n",
    "for model in models:\n",
    "    pipeline.set_params(classifier=model)\n",
    "    scores_train = cross_val_score(pipeline, X_train, y_train, cv=kfolds, scoring='recall_macro')\n",
    "    scores_test = cross_val_score(pipeline, X_test, y_test, cv=kfolds, scoring='recall_macro')\n",
    "    print(f'{type(model).__name__} Train Recall: {scores_train.mean():.3f} (+/- {scores_train.std():.3f})')\n",
    "    print(f'{type(model).__name__} Test Recall: {scores_test.mean():.3f} (+/- {scores_test.std():.3f})')"
   ]
  },
  {
   "attachments": {},
   "cell_type": "markdown",
   "metadata": {},
   "source": [
    "Didapatkan recall skor untuk train data dan test data dari masing-masing model tanpa hyperparameter tuning dengan model nilai tertinggi adalah model `KNeighborsClassifier` dengan nilai akurasi sebesar 0.612 pada train dan merupakan model cenderung goodfit. \n",
    "\n",
    "`DecisionTreeClassifier` mendapatkan skor recall terendah dengan skor 0.569 dengan model cenderung underfitting.\n",
    "\n",
    "Selanjutnya akan dicoba untuk melihat akurasi dari model yang melalui hyperparameter tuning."
   ]
  },
  {
   "attachments": {},
   "cell_type": "markdown",
   "metadata": {},
   "source": [
    "# Hyperparameter Tuning"
   ]
  },
  {
   "attachments": {},
   "cell_type": "markdown",
   "metadata": {},
   "source": [
    "Hyperparameter tuning adalah proses mencari nilai optimal untuk parameter yang tidak dapat dipelajari oleh model pada saat pelatihan, tetapi harus ditentukan sebelumnya oleh pengguna. Hal ini sering kali dilakukan untuk meningkatkan performa model dalam memprediksi data yang belum dilihat sebelumnya.\n",
    "\n",
    "Hyperparameter tuning dilakukan dengan menggunakan `GridSearchCV`. \n",
    "\n",
    "`GridSearchCV` melakukan pencarian secara sistematis pada ruang parameter yang ditentukan oleh pengguna. Setiap iterasi pada keduanya melibatkan pelatihan model dengan kombinasi nilai parameter yang berbeda, dan evaluasi performa model dengan skor validasi silang.\n",
    "\n",
    "Setelah pencarian selesai, hasilnya adalah kombinasi parameter yang menghasilkan skor validasi silang terbaik. Kemudian, pengguna dapat menggunakan parameter ini untuk membangun model final yang akan digunakan untuk memprediksi data yang belum dilihat sebelumnya."
   ]
  },
  {
   "attachments": {},
   "cell_type": "markdown",
   "metadata": {},
   "source": [
    "**Warning!!! Running HyperParameter Tuning memakan banyak waktu**"
   ]
  },
  {
   "cell_type": "code",
   "execution_count": null,
   "metadata": {},
   "outputs": [],
   "source": [
    "from sklearn.model_selection import GridSearchCV\n",
    "\n",
    "# create a dictionary of hyperparameters for each model\n",
    "logreg_params = {'classifier__solver':['lbfgs','liblinier'],\n",
    "                 'classifier__penalty': ['l1', 'l2'], \n",
    "                 'classifier__C': [0.01, 0.1, 1, 10, 100],\n",
    "                 'classifier__random_state': [42]}\n",
    "\n",
    "dt_params = {'classifier__criterion': ['gini', 'entropy'], \n",
    "             'classifier__max_depth': [5, 10, 15, 20, None],\n",
    "             'classifier__min_samples_split': [2, 5, 10, 15],\n",
    "             'classifier__random_state': [42]}\n",
    "\n",
    "svm_params = {'classifier__C': [0.01, 0.1, 1, 10, 100], \n",
    "              'classifier__kernel': ['linear', 'rbf','poly'],\n",
    "              'classifier__random_state': [42]}\n",
    "\n",
    "rf_params = {'classifier__n_estimators': [100, 300],\n",
    "             'classifier__max_depth': [5, 10, 15, 20],\n",
    "             'classifier__min_samples_split': [2, 5, 10, 15],\n",
    "             'classifier__max_features': ['auto', 'sqrt'],\n",
    "             'classifier__random_state': [42]}\n",
    "\n",
    "nb_params = {}\n",
    "\n",
    "knn_params = {'classifier__n_neighbors': [5, 10, 15, 20], \n",
    "              'classifier__weights': ['uniform', 'distance'],\n",
    "              'classifier__algorithm': ['auto', 'ball_tree', 'kd_tree', 'brute']}\n",
    "\n",
    "ada_params = {'classifier__n_estimators': [50, 100, 150], \n",
    "              'classifier__learning_rate': [0.01, 0.1, 1, 10],\n",
    "              'classifier__random_state': [42]}\n",
    "\n",
    "# create a dictionary of hyperparameters for each model\n",
    "param_grid = {\n",
    "    'LogisticRegression': logreg_params,\n",
    "    'DecisionTreeClassifier': dt_params,\n",
    "    'SVM': svm_params,\n",
    "    'RandomForestClassifier': rf_params,\n",
    "    'GaussianNB': nb_params,\n",
    "    'KNeighborsClassifier': knn_params,\n",
    "    'AdaBoostClassifier': ada_params,\n",
    "}\n",
    "\n",
    "# create a dictionary of models\n",
    "models = {\n",
    "    'LogisticRegression': LogisticRegression(),\n",
    "    'DecisionTreeClassifier': DecisionTreeClassifier(),\n",
    "    'SVM': SVC(),\n",
    "    'RandomForestClassifier': RandomForestClassifier(),\n",
    "    'GaussianNB': GaussianNB(),\n",
    "    'KNeighborsClassifier': KNeighborsClassifier(),\n",
    "    'AdaBoostClassifier': AdaBoostClassifier(),\n",
    "}\n",
    "\n",
    "\n",
    "# prepare the cross-validation procedure\n",
    "kfolds = KFold(n_splits=10, random_state=42, shuffle=True)\n",
    "\n",
    "# loop through each model and its corresponding hyperparameters to perform grid search cross-validation\n",
    "for model_name, model in models.items():\n",
    "    pipeline.set_params(classifier=model)\n",
    "    if model_name in param_grid:\n",
    "        grid_search = GridSearchCV(pipeline, param_grid[model_name], cv=kfolds)\n",
    "        grid_search.fit(X_train, y_train)\n",
    "        best_scores[model_name] = grid_search.best_score_\n",
    "        print(f'{model_name} Best Parameters: {grid_search.best_params_}')\n",
    "        print(f'{model_name} Best Score: {grid_search.best_score_}')\n",
    "        print(f'{model_name} Recall Score: {grid_search.cv_results_[\"mean_test_score\"].mean()}')"
   ]
  },
  {
   "attachments": {},
   "cell_type": "markdown",
   "metadata": {},
   "source": [
    "Didapatkan model parameter dan skor terbaik dari seluruh model yang dilakukan hyperparameter tuning. Dari seluruh model yang dilakukan hyperparameter tuning didapatkan model `AdaBoostClassifier` merupakan model dengan skor terbaik dengan recall score 0.827 dan best score 0.835 dengan parameter terbaiknya adalah \n",
    "\n",
    "{'classifier__learning_rate': 10, 'classifier__n_estimators': 50, 'classifier__random_state': 42}.\n",
    "\n",
    "Setelah didapatkan model dengan parameter dan skor terbaik, aplikasikan parameter tersebut kedalam pipeline yang terbaru yang telah dilakukan hyperparameter tuning."
   ]
  },
  {
   "cell_type": "code",
   "execution_count": null,
   "metadata": {},
   "outputs": [],
   "source": [
    "# define the preprocessing steps for categorical and numerical columns\n",
    "cat_transformer = Pipeline(steps=[\n",
    "    ('ordinal', OrdinalEncoder(categories=[[1, 2], [1, 2, 3, 4], [1, 2, 3], [-2, -1, 0, 2, 3, 4, 6, 7], [-2, -1, 0, 2, 3, 4, 5, 6, 7], [-2, -1, 0, 2, 3, 4, 5, 6, 7, 8], [-2, -1, 0, 2, 3, 4, 5, 6, 7], [-2, -1, 0, 1, 2, 3, 4, 5, 6, 7], [-2, -1, 0, 1, 2, 3, 4, 5, 6, 7, 8]]))\n",
    "])\n",
    "\n",
    "num_transformer = Pipeline(steps=[\n",
    "    ('scaler', StandardScaler()), \n",
    "    ('pca',PCA(n_components=6))\n",
    "])\n",
    "\n",
    "# create the column transformer to apply the preprocessing steps to the data\n",
    "preprocessor = ColumnTransformer(transformers=[\n",
    "    ('cat', cat_transformer, cat_cols),\n",
    "    ('num', num_transformer, num_cols)\n",
    "])\n",
    "\n",
    "# create the pipeline to apply the logistic regression, decision tree classifier,\n",
    "# support vector machine, random forest, naive bayes, knn, and adaboost.\n",
    "pipeline_tuned = imbPipeline(steps=[\n",
    "    ('preprocessor', preprocessor),\n",
    "    ('sampling', SMOTE(k_neighbors=5,sampling_strategy='auto',random_state=42)),\n",
    "    ('classifier', None)\n",
    "])\n",
    "\n",
    "# define the models to be applied in the pipeline\n",
    "models_tuned = [LogisticRegression(C=10, penalty='l2', solver='lbfgs', random_state=42), \n",
    "                DecisionTreeClassifier(criterion='entropy', max_depth=5, min_samples_split=2, random_state=42), \n",
    "                SVC(C=10, kernel='rbf', random_state=42), \n",
    "                RandomForestClassifier(max_depth=5, max_features='auto', min_samples_split=5, n_estimators=100, random_state=42),\n",
    "                GaussianNB(), \n",
    "                KNeighborsClassifier(algorithm='auto', n_neighbors=10, weights='distance'), \n",
    "                AdaBoostClassifier(learning_rate=0.1, n_estimators=50, random_state=42)]\n",
    "\n",
    "# prepare the cross-validation procedure\n",
    "kfolds = KFold(n_splits=10, random_state=42, shuffle=True)\n",
    "\n",
    "# train and evaluate each model using cross-validation\n",
    "from sklearn.model_selection import cross_val_score\n",
    "for model in models_tuned:\n",
    "    pipeline_tuned.set_params(classifier=model)\n",
    "    scores_train = cross_val_score(pipeline_tuned, X_train, y_train, cv=kfolds, scoring='recall_macro')\n",
    "    scores_test = cross_val_score(pipeline_tuned, X_test, y_test, cv=kfolds, scoring='recall_macro')\n",
    "    print(f'{type(model).__name__} Train Recall: {scores_train.mean():.3f} (+/- {scores_train.std():.3f})')\n",
    "    print(f'{type(model).__name__} Test Recall: {scores_test.mean():.3f} (+/- {scores_test.std():.3f})')"
   ]
  },
  {
   "attachments": {},
   "cell_type": "markdown",
   "metadata": {},
   "source": [
    "Terlihat sedikit kenaikan skor recall pada beberapa model yang sesudah dilakukan hyperparameter tuning.\n",
    "\n",
    "Model `Decision Tree Classifier` adalah model dengan peningkatan terbesar yaitu dengan peningkatan recall skor train data sebesar 0.037 dan akurasi skor test data sebesar 0.023.\n",
    "\n",
    "Sementara itu, Model `Gaussian Naive Bayes` adalah model yang tidak mengalami peningkatan skor recall.\n",
    "\n",
    "Dapat disimpulkan bahwa hyperparameter tuning dapat meningkatkan akurasi skor dari model yang tidak dilakukan hyperparameter tuning."
   ]
  },
  {
   "attachments": {},
   "cell_type": "markdown",
   "metadata": {},
   "source": [
    "# Model Evaluation"
   ]
  },
  {
   "attachments": {},
   "cell_type": "markdown",
   "metadata": {},
   "source": [
    "Dalam model evaluation ini akan menggunakan classification report sebagai media evaluasi. \n",
    "\n",
    "Dalam hal ini, Classification report adalah laporan yang menyajikan hasil evaluasi kinerja model klasifikasi pada set data uji. Laporan ini berisi beberapa metrik evaluasi, seperti akurasi, presisi, recall, dan f1-score, yang dapat membantu kita memahami seberapa baik model kita dalam mengklasifikasikan data.\n",
    "\n",
    "Metrik ini berguna dalam mengevaluasi kinerja model klasifikasi dan dapat membantu mengidentifikasi area untuk perbaikan. Secara umum, model yang baik akan memiliki presisi, recall, dan skor F1 yang tinggi di semua kelas."
   ]
  },
  {
   "attachments": {},
   "cell_type": "markdown",
   "metadata": {},
   "source": [
    "### Logistic Regression"
   ]
  },
  {
   "cell_type": "code",
   "execution_count": null,
   "metadata": {},
   "outputs": [],
   "source": [
    "# create subplots with size of 15 x 8\n",
    "fig, ax = plt.subplots(nrows=1, ncols= 2, figsize=(15,8))\n",
    "\n",
    "# fit the pipeline on the training data\n",
    "pipeline_tuned.set_params(classifier=LogisticRegression(C=10, penalty='l2', solver='lbfgs', random_state=42))\n",
    "pipeline_tuned.fit(X_train, y_train)\n",
    "\n",
    "# make predictions on the test data\n",
    "y_pred1 = pipeline_tuned.predict(X_train)\n",
    "\n",
    "# make predictions on the test data\n",
    "y_pred2 = pipeline_tuned.predict(X_test)\n",
    "\n",
    "# generate confusion matrix and classification report\n",
    "cm_train = confusion_matrix(y_train,y_pred1)\n",
    "display = ConfusionMatrixDisplay(confusion_matrix=cm_train, display_labels=['Not Default','Default'])\n",
    "display.plot(ax = ax[0])\n",
    "print(\"\\nClassification Report:\")\n",
    "print(classification_report(y_train, y_pred1))\n",
    "roc_auc = roc_auc_score(y_train, y_pred1)\n",
    "print(f\"ROC AUC Score: {roc_auc}\")\n",
    "ax[0].set_title('Confusion Matrix - Train Data',size = 15)\n",
    "\n",
    "# generate confusion matrix and classification report\n",
    "cm_train = confusion_matrix(y_test,y_pred2)\n",
    "display = ConfusionMatrixDisplay(confusion_matrix=cm_train, display_labels=['Not Default','Default'])\n",
    "display.plot(ax = ax[1])\n",
    "print(\"\\nClassification Report:\")\n",
    "print(classification_report(y_test, y_pred2))\n",
    "roc_auc = roc_auc_score(y_test, y_pred2)\n",
    "print(f\"ROC AUC Score: {roc_auc}\")\n",
    "ax[1].set_title('Confusion Matrix - Test Data',size = 15)\n",
    "\n",
    "# Show the Plots\n",
    "plt.show()"
   ]
  },
  {
   "attachments": {},
   "cell_type": "markdown",
   "metadata": {},
   "source": [
    "Pada pemodelan menggunakan `Logistik Regresi` didapatkan score dari recall kategori 1 sebesar 0.34 pada train data dan 0.29 pada test data serta skor ROC-AUC sebesar 0.65 pada train data dan 0.62 pada test data.\n",
    "\n",
    "Dapat dikatakan bahwa model `Logistik Regresi` memiliki nilai yang rendah dalam mengidentifikasi recall kategori 1 dengan skor ROC-AUC yang rendah."
   ]
  },
  {
   "attachments": {},
   "cell_type": "markdown",
   "metadata": {},
   "source": [
    "----"
   ]
  },
  {
   "attachments": {},
   "cell_type": "markdown",
   "metadata": {},
   "source": [
    "### Decission Tree Classifier"
   ]
  },
  {
   "cell_type": "code",
   "execution_count": null,
   "metadata": {},
   "outputs": [],
   "source": [
    "# create subplots with size of 15 x 8\n",
    "fig, ax = plt.subplots(nrows=1, ncols= 2, figsize=(15,8))\n",
    "\n",
    "# fit the pipeline on the training data\n",
    "pipeline_tuned.set_params(classifier=DecisionTreeClassifier(criterion='entropy', max_depth=5, min_samples_split=2, random_state=42))\n",
    "pipeline_tuned.fit(X_train, y_train)\n",
    "\n",
    "# make predictions on the test data\n",
    "y_pred1 = pipeline_tuned.predict(X_train)\n",
    "\n",
    "# make predictions on the test data\n",
    "y_pred2 = pipeline_tuned.predict(X_test)\n",
    "\n",
    "# generate confusion matrix and classification report\n",
    "cm_train = confusion_matrix(y_train,y_pred1)\n",
    "display = ConfusionMatrixDisplay(confusion_matrix=cm_train, display_labels=['Not Default','Default'])\n",
    "display.plot(ax = ax[0])\n",
    "print(\"\\nClassification Report:\")\n",
    "print(classification_report(y_train, y_pred1))\n",
    "roc_auc = roc_auc_score(y_train, y_pred1)\n",
    "print(f\"ROC AUC Score: {roc_auc}\")\n",
    "ax[0].set_title('Confusion Matrix - Train Data',size = 15)\n",
    "\n",
    "# generate confusion matrix and classification report\n",
    "cm_train = confusion_matrix(y_test,y_pred2)\n",
    "display = ConfusionMatrixDisplay(confusion_matrix=cm_train, display_labels=['Not Default','Default'])\n",
    "display.plot(ax = ax[1])\n",
    "print(\"\\nClassification Report:\")\n",
    "print(classification_report(y_test, y_pred2))\n",
    "roc_auc = roc_auc_score(y_test, y_pred2)\n",
    "print(f\"ROC AUC Score: {roc_auc}\")\n",
    "ax[1].set_title('Confusion Matrix - Test Data',size = 15)\n",
    "\n",
    "# Show the Plots\n",
    "plt.show()"
   ]
  },
  {
   "cell_type": "code",
   "execution_count": null,
   "metadata": {},
   "outputs": [],
   "source": [
    "276/(276+232)"
   ]
  },
  {
   "attachments": {},
   "cell_type": "markdown",
   "metadata": {},
   "source": [
    "Pada pemodelan menggunakan `Decission Tree Classifier` didapatkan score dari recall kategori 1 sebesar 0.52 pada train data dan 0.39 pada test data serta skor ROC-AUC sebesar 0.73 pada train data dan 0.65 pada test data.\n",
    "\n",
    "Model `Decission Tree Classifier` memiliki skor yang tinggi pada recall kategori 1 dan ROC-AUC karena model ini tidak berpengaruh terhadap data tidak seimbang yang menyebabkan berpengaruhnya nilai skor akhir.\n",
    "\n",
    "Dapat dikatakan bahwa model `Decission Tree Classifier` memiliki nilai yang tinggi dalam mengidentifikasi recall kategori 1 dengan skor ROC-AUC yang baik."
   ]
  },
  {
   "attachments": {},
   "cell_type": "markdown",
   "metadata": {},
   "source": [
    "----"
   ]
  },
  {
   "attachments": {},
   "cell_type": "markdown",
   "metadata": {},
   "source": [
    "### Support Vector Machine"
   ]
  },
  {
   "cell_type": "code",
   "execution_count": null,
   "metadata": {},
   "outputs": [],
   "source": [
    "# create subplots with size of 15 x 8\n",
    "fig, ax = plt.subplots(nrows=1, ncols= 2, figsize=(15,8))\n",
    "\n",
    "# fit the pipeline on the training data\n",
    "pipeline_tuned.set_params(classifier=SVC(C=10, kernel='rbf', random_state=42))\n",
    "pipeline_tuned.fit(X_train, y_train)\n",
    "\n",
    "# make predictions on the test data\n",
    "y_pred1 = pipeline_tuned.predict(X_train)\n",
    "\n",
    "# make predictions on the test data\n",
    "y_pred2 = pipeline_tuned.predict(X_test)\n",
    "\n",
    "# generate confusion matrix and classification report\n",
    "cm_train = confusion_matrix(y_train,y_pred1)\n",
    "display = ConfusionMatrixDisplay(confusion_matrix=cm_train, display_labels=['Not Default','Default'])\n",
    "display.plot(ax = ax[0])\n",
    "print(\"\\nClassification Report:\")\n",
    "print(classification_report(y_train, y_pred1))\n",
    "roc_auc = roc_auc_score(y_train, y_pred1)\n",
    "print(f\"ROC AUC Score: {roc_auc}\")\n",
    "ax[0].set_title('Confusion Matrix - Train Data',size = 15)\n",
    "\n",
    "# generate confusion matrix and classification report\n",
    "cm_train = confusion_matrix(y_test,y_pred2)\n",
    "display = ConfusionMatrixDisplay(confusion_matrix=cm_train, display_labels=['Not Default','Default'])\n",
    "display.plot(ax = ax[1])\n",
    "print(\"\\nClassification Report:\")\n",
    "print(classification_report(y_test, y_pred2))\n",
    "roc_auc = roc_auc_score(y_test, y_pred2)\n",
    "print(f\"ROC AUC Score: {roc_auc}\")\n",
    "ax[1].set_title('Confusion Matrix - Test Data',size = 15)\n",
    "\n",
    "# Show the Plots\n",
    "plt.show()"
   ]
  },
  {
   "attachments": {},
   "cell_type": "markdown",
   "metadata": {},
   "source": [
    "Pada pemodelan menggunakan `Support Vector Machine` didapatkan score dari recall kategori 1 sebesar 0.47 pada train data dan 0.31 pada test data serta skor ROC-AUC sebesar 0.72 pada train data dan 0.63 pada test data.\n",
    "\n",
    "Model `Support Vector Machine` memiliki skor yang cenderung rendah pada recall kategori 1 dan ROC-AUC karena model ini sedikit berpengaruh terhadap data tidak seimbang yang menyebabkan berpengaruhnya nilai skor akhir.\n",
    "\n",
    "Dapat dikatakan bahwa model `Support Vector Machine` memiliki nilai yang cenderung rendah dalam mengidentifikasi recall kategori 1 dengan skor ROC-AUC yang baik."
   ]
  },
  {
   "attachments": {},
   "cell_type": "markdown",
   "metadata": {},
   "source": [
    "----"
   ]
  },
  {
   "attachments": {},
   "cell_type": "markdown",
   "metadata": {},
   "source": [
    "### Random Forest Classifier"
   ]
  },
  {
   "cell_type": "code",
   "execution_count": null,
   "metadata": {},
   "outputs": [],
   "source": [
    "# create subplots with size of 15 x 8\n",
    "fig, ax = plt.subplots(nrows=1, ncols= 2, figsize=(15,8))\n",
    "\n",
    "# fit the pipeline on the training data\n",
    "pipeline_tuned.set_params(classifier=RandomForestClassifier(max_depth=5, max_features='auto', min_samples_split=5, n_estimators=100, random_state=42))\n",
    "pipeline_tuned.fit(X_train, y_train)\n",
    "\n",
    "# make predictions on the test data\n",
    "y_pred1 = pipeline_tuned.predict(X_train)\n",
    "\n",
    "# make predictions on the test data\n",
    "y_pred2 = pipeline_tuned.predict(X_test)\n",
    "\n",
    "# generate confusion matrix and classification report\n",
    "cm_train = confusion_matrix(y_train,y_pred1)\n",
    "display = ConfusionMatrixDisplay(confusion_matrix=cm_train, display_labels=['Not Default','Default'])\n",
    "display.plot(ax = ax[0])\n",
    "print(\"\\nClassification Report:\")\n",
    "print(classification_report(y_train, y_pred1))\n",
    "roc_auc = roc_auc_score(y_train, y_pred1)\n",
    "print(f\"ROC AUC Score: {roc_auc}\")\n",
    "ax[0].set_title('Confusion Matrix - Train Data',size = 15)\n",
    "\n",
    "# generate confusion matrix and classification report\n",
    "cm_train = confusion_matrix(y_test,y_pred2)\n",
    "display = ConfusionMatrixDisplay(confusion_matrix=cm_train, display_labels=['Not Default','Default'])\n",
    "display.plot(ax = ax[1])\n",
    "print(\"\\nClassification Report:\")\n",
    "print(classification_report(y_test, y_pred2))\n",
    "roc_auc = roc_auc_score(y_test, y_pred2)\n",
    "print(f\"ROC AUC Score: {roc_auc}\")\n",
    "ax[1].set_title('Confusion Matrix - Test Data',size = 15)\n",
    "\n",
    "# Show the Plots\n",
    "plt.show()"
   ]
  },
  {
   "attachments": {},
   "cell_type": "markdown",
   "metadata": {},
   "source": [
    "Pada pemodelan menggunakan `Random Forest Classifier` didapatkan score dari recall kategori 1 sebesar 0.45 pada train data dan 0.32 pada test data serta skor ROC-AUC sebesar 0.71 pada train data dan 0.63 pada test data.\n",
    "\n",
    "Model `Random Forest Classifier` memiliki skor yang cenderung rendah pada recall kategori 1 dan ROC-AUC karena model ini sedikit berpengaruh terhadap data tidak seimbang yang menyebabkan berpengaruhnya nilai skor akhir.\n",
    "\n",
    "Dapat dikatakan bahwa model `Random Forest Classifier` memiliki nilai yang cenderung rendah dalam mengidentifikasi recall kategori 1 dengan skor ROC-AUC yang baik."
   ]
  },
  {
   "attachments": {},
   "cell_type": "markdown",
   "metadata": {},
   "source": [
    "----"
   ]
  },
  {
   "attachments": {},
   "cell_type": "markdown",
   "metadata": {},
   "source": [
    "### Gaussian Naive Bayes"
   ]
  },
  {
   "cell_type": "code",
   "execution_count": null,
   "metadata": {},
   "outputs": [],
   "source": [
    "# create subplots with size of 15 x 8\n",
    "fig, ax = plt.subplots(nrows=1, ncols= 2, figsize=(15,8))\n",
    "\n",
    "# fit the pipeline on the training data\n",
    "pipeline_tuned.set_params(classifier=GaussianNB())\n",
    "pipeline_tuned.fit(X_train, y_train)\n",
    "\n",
    "# make predictions on the test data\n",
    "y_pred1 = pipeline_tuned.predict(X_train)\n",
    "\n",
    "# make predictions on the test data\n",
    "y_pred2 = pipeline_tuned.predict(X_test)\n",
    "\n",
    "# generate confusion matrix and classification report\n",
    "cm_train = confusion_matrix(y_train,y_pred1)\n",
    "display = ConfusionMatrixDisplay(confusion_matrix=cm_train, display_labels=['Not Default','Default'])\n",
    "display.plot(ax = ax[0])\n",
    "print(\"\\nClassification Report:\")\n",
    "print(classification_report(y_train, y_pred1))\n",
    "roc_auc = roc_auc_score(y_train, y_pred1)\n",
    "print(f\"ROC AUC Score: {roc_auc}\")\n",
    "ax[0].set_title('Confusion Matrix - Train Data',size = 15)\n",
    "\n",
    "# generate confusion matrix and classification report\n",
    "cm_train = confusion_matrix(y_test,y_pred2)\n",
    "display = ConfusionMatrixDisplay(confusion_matrix=cm_train, display_labels=['Not Default','Default'])\n",
    "display.plot(ax = ax[1])\n",
    "print(\"\\nClassification Report:\")\n",
    "print(classification_report(y_test, y_pred2))\n",
    "roc_auc = roc_auc_score(y_test, y_pred2)\n",
    "print(f\"ROC AUC Score: {roc_auc}\")\n",
    "ax[1].set_title('Confusion Matrix - Test Data',size = 15)\n",
    "\n",
    "# Show the Plots\n",
    "plt.show()"
   ]
  },
  {
   "attachments": {},
   "cell_type": "markdown",
   "metadata": {},
   "source": [
    "Pada pemodelan menggunakan `Gaussian Naive Bayes` didapatkan score dari recall kategori 1 sebesar 0.63 pada train data dan 0.54 pada test data serta skor ROC-AUC sebesar 0.72 pada train data dan 0.65 pada test data.\n",
    "\n",
    "Model `Gaussian Naive Bayes` memiliki skor yang cenderung tinggi pada recall kategori 1 dan ROC-AUC karena model ini sedikit berpengaruh terhadap data tidak seimbang yang menyebabkan berpengaruhnya nilai skor akhir.\n",
    "\n",
    "Dapat dikatakan bahwa model `Gaussian Naive Bayes` memiliki nilai yang cenderung tinggi dalam mengidentifikasi recall kategori 1 dengan skor ROC-AUC yang baik."
   ]
  },
  {
   "attachments": {},
   "cell_type": "markdown",
   "metadata": {},
   "source": [
    "----"
   ]
  },
  {
   "attachments": {},
   "cell_type": "markdown",
   "metadata": {},
   "source": [
    "### K-Neighbors Classifier"
   ]
  },
  {
   "cell_type": "code",
   "execution_count": null,
   "metadata": {},
   "outputs": [],
   "source": [
    "# create subplots with size of 15 x 8\n",
    "fig, ax = plt.subplots(nrows=1, ncols= 2, figsize=(15,8))\n",
    "\n",
    "# fit the pipeline on the training data\n",
    "pipeline_tuned.set_params(classifier=KNeighborsClassifier(algorithm='auto', n_neighbors=10, weights='distance'))\n",
    "pipeline_tuned.fit(X_train, y_train)\n",
    "\n",
    "# make predictions on the test data\n",
    "y_pred1 = pipeline_tuned.predict(X_train)\n",
    "\n",
    "# make predictions on the test data\n",
    "y_pred2 = pipeline_tuned.predict(X_test)\n",
    "\n",
    "# generate confusion matrix and classification report\n",
    "cm_train = confusion_matrix(y_train,y_pred1)\n",
    "display = ConfusionMatrixDisplay(confusion_matrix=cm_train, display_labels=['Not Default','Default'])\n",
    "display.plot(ax = ax[0])\n",
    "print(\"\\nClassification Report:\")\n",
    "print(classification_report(y_train, y_pred1))\n",
    "roc_auc = roc_auc_score(y_train, y_pred1)\n",
    "print(f\"ROC AUC Score: {roc_auc}\")\n",
    "ax[0].set_title('Confusion Matrix - Train Data',size = 15)\n",
    "\n",
    "# generate confusion matrix and classification report\n",
    "cm_train = confusion_matrix(y_test,y_pred2)\n",
    "display = ConfusionMatrixDisplay(confusion_matrix=cm_train, display_labels=['Not Default','Default'])\n",
    "display.plot(ax = ax[1])\n",
    "print(\"\\nClassification Report:\")\n",
    "print(classification_report(y_test, y_pred2))\n",
    "roc_auc = roc_auc_score(y_test, y_pred2)\n",
    "print(f\"ROC AUC Score: {roc_auc}\")\n",
    "ax[1].set_title('Confusion Matrix - Test Data',size = 15)\n",
    "\n",
    "# Show the Plots\n",
    "plt.show()"
   ]
  },
  {
   "attachments": {},
   "cell_type": "markdown",
   "metadata": {},
   "source": [
    "Pada pemodelan menggunakan `K-Neighbors Classifier` didapatkan score dari recall kategori 1 sebesar 1 pada train data dan 0.31 pada test data serta skor ROC-AUC sebesar 1 pada train data dan 0.62 pada test data.\n",
    "\n",
    "Model `Gaussian Naive Bayes` memiliki skor yang sangat tinggi pada recall kategori 1 dan ROC-AUC kemungkinan model ini overfitting karena nilai train yang tinggi dan nilai test yang rendah."
   ]
  },
  {
   "attachments": {},
   "cell_type": "markdown",
   "metadata": {},
   "source": [
    "----"
   ]
  },
  {
   "attachments": {},
   "cell_type": "markdown",
   "metadata": {},
   "source": [
    "### Adaptive Boost Classifier"
   ]
  },
  {
   "cell_type": "code",
   "execution_count": null,
   "metadata": {},
   "outputs": [],
   "source": [
    "# create subplots with size of 15 x 8\n",
    "fig, ax = plt.subplots(nrows=1, ncols= 2, figsize=(15,8))\n",
    "\n",
    "# fit the pipeline on the training data\n",
    "pipeline_tuned.set_params(classifier=AdaBoostClassifier(learning_rate=0.1, n_estimators=50, random_state=42))\n",
    "pipeline_tuned.fit(X_train, y_train)\n",
    "\n",
    "# make predictions on the test data\n",
    "y_pred1 = pipeline_tuned.predict(X_train)\n",
    "\n",
    "# make predictions on the test data\n",
    "y_pred2 = pipeline_tuned.predict(X_test)\n",
    "\n",
    "# generate confusion matrix and classification report\n",
    "cm_train = confusion_matrix(y_train,y_pred1)\n",
    "display = ConfusionMatrixDisplay(confusion_matrix=cm_train, display_labels=['Not Default','Default'])\n",
    "display.plot(ax = ax[0])\n",
    "print(\"\\nClassification Report:\")\n",
    "print(classification_report(y_train, y_pred1))\n",
    "roc_auc = roc_auc_score(y_train, y_pred1)\n",
    "print(f\"ROC AUC Score: {roc_auc}\")\n",
    "ax[0].set_title('Confusion Matrix - Train Data',size = 15)\n",
    "\n",
    "# generate confusion matrix and classification report\n",
    "cm_train = confusion_matrix(y_test,y_pred2)\n",
    "display = ConfusionMatrixDisplay(confusion_matrix=cm_train, display_labels=['Not Default','Default'])\n",
    "display.plot(ax = ax[1])\n",
    "print(\"\\nClassification Report:\")\n",
    "print(classification_report(y_test, y_pred2))\n",
    "roc_auc = roc_auc_score(y_test, y_pred2)\n",
    "print(f\"ROC AUC Score: {roc_auc}\")\n",
    "ax[1].set_title('Confusion Matrix - Test Data',size = 15)\n",
    "\n",
    "# Show the Plots\n",
    "plt.show()"
   ]
  },
  {
   "attachments": {},
   "cell_type": "markdown",
   "metadata": {},
   "source": [
    "Pada pemodelan menggunakan `Adaptive Boost Classifier` didapatkan score dari recall kategori 1 sebesar 0.42 pada train data dan 0.31 pada test data serta skor ROC-AUC sebesar 0.69 pada train data dan 0.62 pada test data.\n",
    "\n",
    "Model `Adaptive Boost Classifier` memiliki skor yang cenderung rendah pada recall kategori 1 dan ROC-AUC."
   ]
  },
  {
   "attachments": {},
   "cell_type": "markdown",
   "metadata": {},
   "source": [
    "----"
   ]
  },
  {
   "attachments": {},
   "cell_type": "markdown",
   "metadata": {},
   "source": [
    "### Model Final"
   ]
  },
  {
   "cell_type": "code",
   "execution_count": null,
   "metadata": {},
   "outputs": [],
   "source": [
    "# define the preprocessing steps for categorical and numerical columns\n",
    "cat_transformer = Pipeline(steps=[\n",
    "    ('ordinal', OrdinalEncoder(categories=[[1, 2], [1, 2, 3, 4], [1, 2, 3], [-2, -1, 0, 2, 3, 4, 6, 7], [-2, -1, 0, 2, 3, 4, 5, 6, 7], [-2, -1, 0, 2, 3, 4, 5, 6, 7, 8], [-2, -1, 0, 2, 3, 4, 5, 6, 7], [-2, -1, 0, 1, 2, 3, 4, 5, 6, 7], [-2, -1, 0, 1, 2, 3, 4, 5, 6, 7, 8]]))\n",
    "])\n",
    "\n",
    "num_transformer = Pipeline(steps=[\n",
    "    ('scaler', StandardScaler()), \n",
    "    ('pca',PCA(n_components=6))\n",
    "])\n",
    "\n",
    "# create the column transformer to apply the preprocessing steps to the data\n",
    "preprocessor = ColumnTransformer(transformers=[\n",
    "    ('cat', cat_transformer, cat_cols),\n",
    "    ('num', num_transformer, num_cols)\n",
    "])\n",
    "\n",
    "# create the pipeline to apply the logistic regression, decision tree classifier,\n",
    "# support vector machine, random forest, naive bayes, knn, and adaboost.\n",
    "pipeline_for_final = imbPipeline(steps=[\n",
    "    ('preprocessor', preprocessor),\n",
    "])\n",
    "\n",
    "final_pipeline = Pipeline([\n",
    "    (\"preprocess\", pipeline_for_final),\n",
    "    (\"classification\", AdaBoostClassifier(learning_rate=0.1, n_estimators=50, random_state=42))\n",
    "])\n",
    "\n",
    "final_pipeline.fit(X_train, y_train)\n",
    "hasil = final_pipeline.predict(X_test)\n",
    "\n",
    "print(classification_report(y_test, hasil))"
   ]
  },
  {
   "attachments": {},
   "cell_type": "markdown",
   "metadata": {},
   "source": [
    "# Model Saving"
   ]
  },
  {
   "attachments": {},
   "cell_type": "markdown",
   "metadata": {},
   "source": [
    "Untuk melakukan saving pada model, cukup import joblib dan gunakan joblib.dump(nama variabel,'nama file.pkl'). Untuk dapat melakukan modelling pada notebook/file yang berbeda, kita akan ngesave model,scaling, dan encoder yang sudah di fit."
   ]
  },
  {
   "cell_type": "code",
   "execution_count": null,
   "metadata": {},
   "outputs": [],
   "source": [
    "joblib.dump(cat_transformer,'cat_transformer.pkl')\n",
    "joblib.dump(num_transformer,'num_transformer.pkl')\n",
    "joblib.dump(preprocessor,'preprocessor.pkl')\n",
    "joblib.dump(pipeline_for_final,'pipeline_for_final.pkl')\n",
    "joblib.dump(final_pipeline,'final_pipeline.pkl')"
   ]
  },
  {
   "attachments": {},
   "cell_type": "markdown",
   "metadata": {},
   "source": [
    "# Model Inference"
   ]
  },
  {
   "attachments": {},
   "cell_type": "markdown",
   "metadata": {},
   "source": [
    "**Dikerjakan di notebook terpisah**"
   ]
  },
  {
   "attachments": {},
   "cell_type": "markdown",
   "metadata": {},
   "source": [
    "# Conclusion"
   ]
  },
  {
   "attachments": {},
   "cell_type": "markdown",
   "metadata": {},
   "source": [
    "## Conceptual Problems"
   ]
  },
  {
   "attachments": {},
   "cell_type": "markdown",
   "metadata": {},
   "source": [
    "1. Apa yang dimaksud dengan criterion pada Decision Tree ? Jelaskan criterion yang kalian pakai dalam kasus ini !"
   ]
  },
  {
   "attachments": {},
   "cell_type": "markdown",
   "metadata": {},
   "source": [
    "- Criterion pada Decision Tree merujuk pada metode yang digunakan untuk menentukan pemisahan node yang paling baik dalam membangun sebuah model Decision Tree.\n",
    "\n",
    "- Dalam pembangunan Decision Tree, setiap node akan dipecah menjadi dua anak node yang lebih kecil berdasarkan suatu kriteria tertentu. Beberapa kriteria yang umum digunakan dalam Decision Tree adalah Gini Index, Entropy, dan Classification Error.\n",
    "\n",
    "- Dalam kasus ini menggunakan criterion Entrophy dimana Enthropy mengukur tingkat ketidakpastian atau informasi yang terkandung dalam data.\n",
    "\n",
    "Sumber: https://scikit-learn.org/stable/modules/tree.html"
   ]
  },
  {
   "attachments": {},
   "cell_type": "markdown",
   "metadata": {},
   "source": [
    "----"
   ]
  },
  {
   "attachments": {},
   "cell_type": "markdown",
   "metadata": {},
   "source": [
    "2. Jelaskan apa yang dimaksud dengan pruning pada Tree-based model (alasan, definisi, jenis, dll) !"
   ]
  },
  {
   "attachments": {},
   "cell_type": "markdown",
   "metadata": {},
   "source": [
    "Pruning pada Tree-based model adalah teknik untuk mengurangi overfitting pada model pohon keputusan (decision tree) dengan menghapus cabang-cabang (subtree) yang tidak berkontribusi signifikan pada akurasi model.\n",
    "\n",
    "Definisi: Pruning adalah teknik dalam machine learning yang mengurangi overfitting dengan memotong (menghapus) cabang-cabang pohon yang tidak terlalu berguna pada model.\n",
    "\n",
    "Alasan: Overfitting terjadi ketika model terlalu kompleks sehingga model belajar untuk mengingat set data latih (training data) bukan untuk memahami pola-pola yang mendasari. Hal ini berakibat model tidak mampu menggeneralisasi dengan baik ke data yang belum pernah dilihat sebelumnya (testing data). Salah satu cara untuk mengurangi overfitting pada model pohon keputusan adalah dengan pruning.\n",
    "\n",
    "Jenis-jenis pruning:\n",
    "\n",
    "- Pre-pruning: dilakukan sebelum pembuatan pohon. Ini berarti memotong cabang yang tidak terlalu penting sebelum pohon dibuat sepenuhnya.\n",
    "\n",
    "- Post-pruning: dilakukan setelah pohon dibuat. Ini berarti memotong cabang yang tidak terlalu penting setelah pohon dibuat. Post-pruning dapat dilakukan dengan menggunakan teknik Cross-validation.\n",
    "\n",
    "- Reduced error pruning: Dilakukan dengan menghitung jumlah kesalahan pada setiap subtree (cabang) dan memotong cabang yang menyebabkan peningkatan kesalahan.\n",
    "\n",
    "- Cost complexity pruning: Mengoptimalkan kompromi antara kesalahan model dan kompleksitas pohon dengan menggunakan parameter yang disebut alpha.\n",
    "\n",
    "Pruning membantu mengurangi overfitting pada model pohon keputusan dan meningkatkan kemampuan generalisasi model pada data baru.\n",
    "\n",
    "Sumber: Zhang, L., Wu, H., & Zhang, B. (2018). Decision tree pruning: A comprehensive survey. Artificial Intelligence Review, 49(4), 535-567."
   ]
  },
  {
   "attachments": {},
   "cell_type": "markdown",
   "metadata": {},
   "source": [
    "----"
   ]
  },
  {
   "attachments": {},
   "cell_type": "markdown",
   "metadata": {},
   "source": [
    "3. Bagaimana cara memilih K yang optimal pada KNN ?"
   ]
  },
  {
   "attachments": {},
   "cell_type": "markdown",
   "metadata": {},
   "source": [
    "Cara memilih K yang optimal pada KNN (K-Nearest Neighbor) adalah dengan menggunakan teknik Cross-Validation. Cross-Validation adalah teknik evaluasi model yang digunakan untuk memeriksa keakuratan model pada data yang tidak terlihat selama pelatihan. Ada beberapa teknik Cross-Validation, salah satunya adalah K-Fold Cross-Validation.\n",
    "\n",
    "Berikut adalah langkah-langkah untuk memilih K yang optimal menggunakan K-Fold Cross-Validation pada KNN:\n",
    "\n",
    "- Pisahkan dataset menjadi data pelatihan (training) dan data validasi (validation).\n",
    "\n",
    "- Tentukan nilai K yang ingin diuji, misalnya K = 1 hingga K = 10.\n",
    "\n",
    "- Lakukan K-Fold Cross-Validation pada data pelatihan dengan nilai K yang telah ditentukan.\n",
    "\n",
    "- Hitung akurasi rata-rata dari hasil K-Fold Cross-Validation pada setiap nilai K.\n",
    "\n",
    "- Pilih nilai K yang memberikan akurasi rata-rata tertinggi sebagai K yang optimal.\n",
    "\n",
    "- Gunakan K yang optimal pada model KNN untuk melakukan prediksi pada data validasi.\n",
    "\n",
    "Sumber: Scikit-learn documentation: https://scikit-learn.org/stable/modules/cross_validation.html"
   ]
  },
  {
   "attachments": {},
   "cell_type": "markdown",
   "metadata": {},
   "source": [
    "----"
   ]
  },
  {
   "attachments": {},
   "cell_type": "markdown",
   "metadata": {},
   "source": [
    "4. Jelaskan apa yang dimaksud dengan Cross Validation !"
   ]
  },
  {
   "attachments": {},
   "cell_type": "markdown",
   "metadata": {},
   "source": [
    "Cross-validation adalah teknik evaluasi model yang digunakan untuk memeriksa keakuratan model pada data yang tidak terlihat selama pelatihan. Dalam teknik ini, data pelatihan dibagi menjadi beberapa subset atau fold, kemudian model dilatih pada subset yang lebih kecil dan diuji pada subset lainnya. Proses ini diulang beberapa kali dengan subset yang berbeda-beda, sehingga semua data pelatihan digunakan untuk melatih dan menguji model. Akhirnya, hasil pengujian diambil rata-rata untuk menilai performa model secara keseluruhan.\n",
    "\n",
    "Terdapat beberapa teknik cross-validation yang biasa digunakan, yaitu:\n",
    "\n",
    "- K-Fold Cross-Validation: dataset dibagi menjadi K subset yang sama besar, kemudian model dilatih pada K-1 subset dan diuji pada subset yang tersisa, dan proses ini diulang K kali dengan subset yang berbeda-beda.\n",
    "\n",
    "- Leave-One-Out Cross-Validation: dataset dibagi menjadi N subset, di mana setiap subset hanya berisi satu data, kemudian model dilatih pada N-1 subset dan diuji pada subset yang tersisa, dan proses ini diulang sebanyak N kali.\n",
    "\n",
    "- Stratified Cross-Validation: teknik yang sama dengan K-Fold Cross-Validation, namun subset yang dibuat mempertahankan proporsi kelas yang sama.\n",
    "\n",
    "Cross-validation sangat penting dalam memeriksa keakuratan model, terutama dalam kasus di mana dataset relatif kecil dan kita ingin memaksimalkan penggunaan data yang tersedia. Dengan menggunakan teknik cross-validation, kita dapat memastikan bahwa model yang dibuat mampu menggeneralisasi dengan baik pada data yang tidak terlihat.\n",
    "\n",
    "Sumber: Scikit-learn documentation: https://scikit-learn.org/stable/modules/cross_validation.html"
   ]
  },
  {
   "attachments": {},
   "cell_type": "markdown",
   "metadata": {},
   "source": [
    "----"
   ]
  },
  {
   "attachments": {},
   "cell_type": "markdown",
   "metadata": {},
   "source": [
    "5. Apa yang dimaksud dengan metrics-metrics berikut : Accuracy, Precision, Recall, F1 Score, dan kapan waktu yang tepat untuk menggunakannya ?"
   ]
  },
  {
   "attachments": {},
   "cell_type": "markdown",
   "metadata": {},
   "source": [
    "Penjelasan mengenai beberapa metrics yang sering digunakan dalam evaluasi performa model machine learning sebagai berikut:\n",
    "\n",
    "-   Accuracy\n",
    "    Accuracy adalah rasio antara jumlah prediksi yang benar dengan total jumlah prediksi yang dilakukan. Metric ini cocok digunakan pada dataset yang seimbang atau memiliki jumlah data yang relatif sama pada setiap kelas.\n",
    "\n",
    "-   Precision\n",
    "    Precision adalah rasio antara jumlah prediksi benar positif (true positive) dengan jumlah total prediksi positif. Metric ini memberikan informasi tentang seberapa tepat model dalam mengidentifikasi kelas positif. Metric ini cocok digunakan pada kasus di mana kita ingin meminimalkan jumlah false positive.\n",
    "\n",
    "-   Recall\n",
    "    Recall adalah rasio antara jumlah prediksi benar positif (true positive) dengan jumlah total data pada kelas positif. Metric ini memberikan informasi tentang seberapa baik model dalam mengidentifikasi semua data pada kelas positif. Metric ini cocok digunakan pada kasus di mana kita ingin meminimalkan jumlah false negative.\n",
    "\n",
    "-   F1 Score\n",
    "    F1 score adalah harmonic mean antara precision dan recall. Metric ini memberikan informasi tentang performa model secara keseluruhan. Metric ini cocok digunakan pada kasus di mana kita ingin mempertimbangkan kedua aspek precision dan recall.\n",
    "\n",
    "Pemilihan metric yang tepat tergantung pada karakteristik dataset dan tujuan dari model machine learning yang dibuat. Pada kasus di mana dataset memiliki distribusi kelas yang tidak seimbang, maka lebih disarankan untuk menggunakan precision, recall, atau F1 score daripada accuracy. Pada kasus ini, kita lebih memperhatikan recall untuk meminimalkan false negative yang dapat merugikan kredit bank.\n",
    "\n",
    "Sumber: Scikit-learn documentation: https://scikit-learn.org/stable/modules/model_evaluation.html   "
   ]
  },
  {
   "attachments": {},
   "cell_type": "markdown",
   "metadata": {},
   "source": [
    "### Model Analysis"
   ]
  },
  {
   "attachments": {},
   "cell_type": "markdown",
   "metadata": {},
   "source": [
    "Model masih dapat diimprove apabila dataset dapat menambah lagi variabel lainnya.\n",
    "\n",
    "Model telah beberapa kali mengalami peningkatan skor dari penggunaan PCA, SMOTE, dan Hyperparameter Tuning.\n",
    "\n",
    "Kesimpulannya adalah model cenderung baik untuk digunakan dalam memprediksi default payment next month"
   ]
  }
 ],
 "metadata": {
  "kernelspec": {
   "display_name": "base",
   "language": "python",
   "name": "python3"
  },
  "language_info": {
   "codemirror_mode": {
    "name": "ipython",
    "version": 3
   },
   "file_extension": ".py",
   "mimetype": "text/x-python",
   "name": "python",
   "nbconvert_exporter": "python",
   "pygments_lexer": "ipython3",
   "version": "3.9.13"
  },
  "orig_nbformat": 4
 },
 "nbformat": 4,
 "nbformat_minor": 2
}
